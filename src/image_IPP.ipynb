{
 "cells": [
  {
   "cell_type": "markdown",
   "metadata": {},
   "source": [
    "[![Binder](https://mybinder.org/badge_logo.svg)](https://github.com/Sistemas-Multimedia/MRVC/blob/master/src/image_IPP.ipynb)"
   ]
  },
  {
   "cell_type": "markdown",
   "metadata": {},
   "source": [
    "# RD performance in IPP video coding\n",
    "This notebook runs two different IPP... experiments.\n",
    "\n",
    "The first one, implemented in `image_IPP.py` is a simple IPP... video codec without RDO (all macro-blocks are motion compensated as P-type blocks). The lossy image compressor is MP4 used in intra mode.\n",
    "\n",
    "`image_IPP_adaptive.py`\n",
    "\n",
    "The second one, implemented in `image_IPP_quantized_residue.py` is a modification of `image_IPP.py` where the prediction-error images are quantized before they are compressed with MP4. Each macro-block is quantized to contribute with the same slope to the reconstructed macro-block. \n",
    "\n",
    "Finally, the RD curves are compared to MP4 (intra-mode)."
   ]
  },
  {
   "cell_type": "code",
   "execution_count": 1,
   "metadata": {},
   "outputs": [],
   "source": [
    "!ln -sf ~/quantization/deadzone_quantizer.py .\n",
    "!ln -sf ~/quantization/distortion.py .\n",
    "!ln -sf ~/quantization/information.py .\n",
    "!ln -sf ~/quantization/midtread_quantizer.py ."
   ]
  },
  {
   "cell_type": "markdown",
   "metadata": {},
   "source": [
    "### Sequence to compress"
   ]
  },
  {
   "cell_type": "code",
   "execution_count": 2,
   "metadata": {},
   "outputs": [],
   "source": [
    "#sequence = \"bus\"\n",
    "sequence = \"akiyo\""
   ]
  },
  {
   "cell_type": "markdown",
   "metadata": {},
   "source": [
    "!../sequences/$sequence/runme.sh"
   ]
  },
  {
   "cell_type": "markdown",
   "metadata": {},
   "source": [
    "### Number of frames to compress"
   ]
  },
  {
   "cell_type": "code",
   "execution_count": 3,
   "metadata": {},
   "outputs": [],
   "source": [
    "N_frames = 5 # Min val 3"
   ]
  },
  {
   "cell_type": "markdown",
   "metadata": {},
   "source": [
    "## Testing `image_IPP`"
   ]
  },
  {
   "cell_type": "markdown",
   "metadata": {},
   "source": [
    "### Select `image_IPP` in `RD_curve.py`"
   ]
  },
  {
   "cell_type": "code",
   "execution_count": 4,
   "metadata": {},
   "outputs": [],
   "source": [
    "!sed -z -i 's/\\n#import image_IPP as codec\\n/\\nimport image_IPP as codec\\n/g' RD_curve.py\n",
    "!sed -z -i 's/\\nimport image_IPP_adaptive as codec\\n/\\n#import image_IPP_adaptive as codec\\n/g' RD_curve.py\n",
    "!sed -z -i 's/\\nimport MP4 as codec\\n/\\n#import MP4 as codec\\n/g' RD_curve.py\n",
    "!sed -z -i 's/\\nimport IPP_compressor as codec\\n/\\n#import IPP_compressor as codec\\n/g' RD_curve.py\n",
    "!sed -z -i 's/\\nimage_IPP_quantized_prediction as codec\\n/\\n#import image_IPP_quantized_prediction as codec\\n/g' RD_curve.py\n",
    "!sed -z -i 's/\\nimport image_IPP_quantized_residue as codec\\n/\\n#import image_IPP_quantized_residue as codec\\n/g' RD_curve.py"
   ]
  },
  {
   "cell_type": "code",
   "execution_count": 5,
   "metadata": {},
   "outputs": [
    {
     "name": "stdout",
     "output_type": "stream",
     "text": [
      "     5\t#import debug\r\n",
      "     6\timport config\r\n",
      "     7\timport distortion\r\n",
      "     8\timport image_3 as frame\r\n",
      "    11\t#import image_interpolated_IPP as codec\r\n",
      "    12\timport image_IPP as codec\r\n",
      "    13\t#import image_IPP_adaptive as codec\r\n",
      "    14\t#import image_IPP_quantized_prediction as codec\r\n",
      "    15\t#import image_IPP_quantized_residue as codec\r\n",
      "    16\t#import MP4 as codec\r\n",
      "    17\t#import IPP_compressor as codec\r\n",
      "    19\timport logging\r\n",
      "    28\timport argparse\r\n"
     ]
    }
   ],
   "source": [
    "!cat -n RD_curve.py | grep \"import\" "
   ]
  },
  {
   "cell_type": "markdown",
   "metadata": {},
   "source": [
    "### We use MP4 and therefore, no previous spatial transform is used\n",
    "MP4 uses the DCT."
   ]
  },
  {
   "cell_type": "code",
   "execution_count": 6,
   "metadata": {},
   "outputs": [],
   "source": [
    "!sed -z -i 's/\\ntransform = \"DWT\"\\n/\\n#transform = \"DWT\"\\n/g' config.py\n",
    "!sed -z -i 's/\\ntransform = \"LP\"\\n/\\n#transform = \"LP\"\\n/g' config.py\n",
    "!sed -z -i 's/\\n#transform = None\\n/\\ntransform = None\\n/g' config.py"
   ]
  },
  {
   "cell_type": "code",
   "execution_count": 7,
   "metadata": {},
   "outputs": [
    {
     "name": "stdout",
     "output_type": "stream",
     "text": [
      "     3\t#multiresolution_transform = \"DWT\"\r\n",
      "     4\t#multiresolution_transform = \"LP\"\r\n",
      "     5\tmultiresolution_transform = None\r\n"
     ]
    }
   ],
   "source": [
    "!cat -n config.py | grep \"transform\" "
   ]
  },
  {
   "cell_type": "markdown",
   "metadata": {},
   "source": [
    "### Select the color transform"
   ]
  },
  {
   "cell_type": "code",
   "execution_count": 8,
   "metadata": {},
   "outputs": [],
   "source": [
    "!sed -z -i 's/\\ncolor = \"YCoCg\\n/\\n#color = \"YCoCg\\n/g' config.py\n",
    "!sed -z -i 's/\\ncolor = \"YCoCg\\n/\\n#color = \"YCoCg\\n/g' config.py\n",
    "!sed -z -i 's/\\n#color = \"YCoCg\\n/\\ncolor = \"YCoCg\\n/g' config.py"
   ]
  },
  {
   "cell_type": "code",
   "execution_count": 9,
   "metadata": {},
   "outputs": [
    {
     "name": "stdout",
     "output_type": "stream",
     "text": [
      "    10\tcolor = \"YCoCg\"\r\n",
      "    11\t#color = \"YCrCb\"\r\n",
      "    12\t#color = \"RGB\"\r\n"
     ]
    }
   ],
   "source": [
    "!cat -n config.py | grep \"color\" "
   ]
  },
  {
   "cell_type": "markdown",
   "metadata": {},
   "source": [
    "### Run the codec"
   ]
  },
  {
   "cell_type": "code",
   "execution_count": 10,
   "metadata": {
    "scrolled": true
   },
   "outputs": [
    {
     "name": "stdout",
     "output_type": "stream",
     "text": [
      "rm: no se puede borrar '/tmp/*.png': No existe el archivo o el directorio\n",
      "akiyo_cif.y4m exists.\n",
      "ffmpeg version 3.4.8-0ubuntu0.2 Copyright (c) 2000-2020 the FFmpeg developers\n",
      "  built with gcc 7 (Ubuntu 7.5.0-3ubuntu1~18.04)\n",
      "  configuration: --prefix=/usr --extra-version=0ubuntu0.2 --toolchain=hardened --libdir=/usr/lib/x86_64-linux-gnu --incdir=/usr/include/x86_64-linux-gnu --enable-gpl --disable-stripping --enable-avresample --enable-avisynth --enable-gnutls --enable-ladspa --enable-libass --enable-libbluray --enable-libbs2b --enable-libcaca --enable-libcdio --enable-libflite --enable-libfontconfig --enable-libfreetype --enable-libfribidi --enable-libgme --enable-libgsm --enable-libmp3lame --enable-libmysofa --enable-libopenjpeg --enable-libopenmpt --enable-libopus --enable-libpulse --enable-librubberband --enable-librsvg --enable-libshine --enable-libsnappy --enable-libsoxr --enable-libspeex --enable-libssh --enable-libtheora --enable-libtwolame --enable-libvorbis --enable-libvpx --enable-libwavpack --enable-libwebp --enable-libx265 --enable-libxml2 --enable-libxvid --enable-libzmq --enable-libzvbi --enable-omx --enable-openal --enable-opengl --enable-sdl2 --enable-libdc1394 --enable-libdrm --enable-libiec61883 --enable-chromaprint --enable-frei0r --enable-libopencv --enable-libx264 --enable-shared\n",
      "  libavutil      55. 78.100 / 55. 78.100\n",
      "  libavcodec     57.107.100 / 57.107.100\n",
      "  libavformat    57. 83.100 / 57. 83.100\n",
      "  libavdevice    57. 10.100 / 57. 10.100\n",
      "  libavfilter     6.107.100 /  6.107.100\n",
      "  libavresample   3.  7.  0 /  3.  7.  0\n",
      "  libswscale      4.  8.100 /  4.  8.100\n",
      "  libswresample   2.  9.100 /  2.  9.100\n",
      "  libpostproc    54.  7.100 / 54.  7.100\n",
      "Input #0, yuv4mpegpipe, from 'akiyo_cif.y4m':\n",
      "  Duration: 00:00:10.01, start: 0.000000, bitrate: 36460 kb/s\n",
      "    Stream #0:0: Video: rawvideo (I420 / 0x30323449), yuv420p(progressive), 352x288, SAR 128:117 DAR 1408:1053, 29.97 fps, 29.97 tbr, 29.97 tbn, 29.97 tbc\n",
      "Stream mapping:\n",
      "  Stream #0:0 -> #0:0 (rawvideo (native) -> png (native))\n",
      "Press [q] to stop, [?] for help\n",
      "Output #0, image2, to '/tmp/original_%03d.png':\n",
      "  Metadata:\n",
      "    encoder         : Lavf57.83.100\n",
      "    Stream #0:0: Video: png, rgb24, 352x288 [SAR 128:117 DAR 1408:1053], q=2-31, 200 kb/s, 29.97 fps, 29.97 tbn, 29.97 tbc\n",
      "    Metadata:\n",
      "      encoder         : Lavc57.107.100 png\n",
      "frame=  300 fps= 40 q=-0.0 Lsize=N/A time=00:00:10.01 bitrate=N/A speed=1.34x    \n",
      "video:52297kB audio:0kB subtitle:0kB other streams:0kB global headers:0kB muxing overhead: unknown\n"
     ]
    }
   ],
   "source": [
    "!rm /tmp/*.png\n",
    "!../sequences/$sequence/runme.sh"
   ]
  },
  {
   "cell_type": "code",
   "execution_count": 11,
   "metadata": {
    "scrolled": true
   },
   "outputs": [
    {
     "name": "stdout",
     "output_type": "stream",
     "text": [
      "[image_IPP.py:215 I_codec()] image_IPP.I_codec: max=255 min=0 type=uint8\n",
      "[image_IPP.py:74 encode()] W_k 32 -50\n",
      "[image_IPP.py:76 encode()] COMPUTED flow 0.30398550629615784 -0.3060075640678406\n",
      "[image_IPP.py:79 encode()] USED flow 0 0\n",
      "[image_IPP.py:238 E_codec_4_YCoCg()] image_IPP.E_codec: q_step 21\n",
      "[image_IPP.py:239 E_codec_4_YCoCg()] image_IPP.E_codec: error 134 -123 int16\n",
      "[image_IPP.py:241 E_codec_4_YCoCg()] image_IPP.E_codec: max=198 min=0 type=uint8\n",
      "[image_IPP.py:253 E_codec_4_YCoCg()] image_IPP.E_codec: deQ error YUV 63 -58 int16\n",
      "[image_IPP.py:74 encode()] W_k 32 -51\n",
      "[image_IPP.py:76 encode()] COMPUTED flow 0.2751511037349701 -0.4026305377483368\n",
      "[image_IPP.py:79 encode()] USED flow 0 0\n",
      "[image_IPP.py:238 E_codec_4_YCoCg()] image_IPP.E_codec: q_step 21\n",
      "[image_IPP.py:239 E_codec_4_YCoCg()] image_IPP.E_codec: error 115 -83 int16\n",
      "[image_IPP.py:241 E_codec_4_YCoCg()] image_IPP.E_codec: max=218 min=0 type=uint8\n",
      "[image_IPP.py:253 E_codec_4_YCoCg()] image_IPP.E_codec: deQ error YUV 63 -53 int16\n",
      "[image_IPP.py:74 encode()] W_k 32 -50\n",
      "[image_IPP.py:76 encode()] COMPUTED flow 0.2449876368045807 -0.2870011329650879\n",
      "[image_IPP.py:79 encode()] USED flow 0 0\n",
      "[image_IPP.py:238 E_codec_4_YCoCg()] image_IPP.E_codec: q_step 21\n",
      "[image_IPP.py:239 E_codec_4_YCoCg()] image_IPP.E_codec: error 108 -75 int16\n",
      "[image_IPP.py:241 E_codec_4_YCoCg()] image_IPP.E_codec: max=255 min=0 type=uint8\n",
      "[image_IPP.py:253 E_codec_4_YCoCg()] image_IPP.E_codec: deQ error YUV 36 -23 int16\n",
      "[image_IPP.py:74 encode()] W_k 32 -50\n",
      "[image_IPP.py:76 encode()] COMPUTED flow 0.388182133436203 -0.8962959051132202\n",
      "[image_IPP.py:79 encode()] USED flow 0 0\n",
      "[image_IPP.py:238 E_codec_4_YCoCg()] image_IPP.E_codec: q_step 21\n",
      "[image_IPP.py:239 E_codec_4_YCoCg()] image_IPP.E_codec: error 109 -132 int16\n",
      "[image_IPP.py:241 E_codec_4_YCoCg()] image_IPP.E_codec: max=255 min=0 type=uint8\n",
      "[image_IPP.py:253 E_codec_4_YCoCg()] image_IPP.E_codec: deQ error YUV 106 -124 int16\n",
      "[image_IPP.py:158 compute_br()] cat /tmp/original_motion_y_diff_comp_???.png | gzip -9 > /tmp/image_IPP_motion_y.gz\n",
      "[image_IPP.py:197 compute_br()] cat /tmp/original_motion_x_diff_comp_???.png | gzip -9 > /tmp/image_IPP_motion_y.gz\n",
      "[image_IPP.py:215 I_codec()] image_IPP.I_codec: max=255 min=0 type=uint8\n",
      "[image_IPP.py:74 encode()] W_k 32 -50\n",
      "[image_IPP.py:76 encode()] COMPUTED flow 0.30398550629615784 -0.3060075640678406\n",
      "[image_IPP.py:79 encode()] USED flow 0 0\n",
      "[image_IPP.py:238 E_codec_4_YCoCg()] image_IPP.E_codec: q_step 24\n",
      "[image_IPP.py:239 E_codec_4_YCoCg()] image_IPP.E_codec: error 129 -113 int16\n",
      "[image_IPP.py:241 E_codec_4_YCoCg()] image_IPP.E_codec: max=214 min=0 type=uint8\n",
      "[image_IPP.py:253 E_codec_4_YCoCg()] image_IPP.E_codec: deQ error YUV 66 -48 int16\n",
      "[image_IPP.py:74 encode()] W_k 32 -51\n",
      "[image_IPP.py:76 encode()] COMPUTED flow 0.2751511037349701 -0.4026305377483368\n",
      "[image_IPP.py:79 encode()] USED flow 0 0\n",
      "[image_IPP.py:238 E_codec_4_YCoCg()] image_IPP.E_codec: q_step 24\n",
      "[image_IPP.py:239 E_codec_4_YCoCg()] image_IPP.E_codec: error 118 -91 int16\n",
      "[image_IPP.py:241 E_codec_4_YCoCg()] image_IPP.E_codec: max=213 min=0 type=uint8\n",
      "[image_IPP.py:253 E_codec_4_YCoCg()] image_IPP.E_codec: deQ error YUV 60 -59 int16\n",
      "[image_IPP.py:74 encode()] W_k 32 -50\n",
      "[image_IPP.py:76 encode()] COMPUTED flow 0.2449876368045807 -0.2870011329650879\n",
      "[image_IPP.py:79 encode()] USED flow 0 0\n",
      "[image_IPP.py:238 E_codec_4_YCoCg()] image_IPP.E_codec: q_step 24\n",
      "[image_IPP.py:239 E_codec_4_YCoCg()] image_IPP.E_codec: error 113 -73 int16\n",
      "[image_IPP.py:241 E_codec_4_YCoCg()] image_IPP.E_codec: max=255 min=0 type=uint8\n",
      "[image_IPP.py:253 E_codec_4_YCoCg()] image_IPP.E_codec: deQ error YUV 30 -24 int16\n",
      "[image_IPP.py:74 encode()] W_k 32 -50\n",
      "[image_IPP.py:76 encode()] COMPUTED flow 0.388182133436203 -0.8962959051132202\n",
      "[image_IPP.py:79 encode()] USED flow 0 0\n",
      "[image_IPP.py:238 E_codec_4_YCoCg()] image_IPP.E_codec: q_step 24\n",
      "[image_IPP.py:239 E_codec_4_YCoCg()] image_IPP.E_codec: error 114 -131 int16\n",
      "[image_IPP.py:241 E_codec_4_YCoCg()] image_IPP.E_codec: max=255 min=0 type=uint8\n",
      "[image_IPP.py:253 E_codec_4_YCoCg()] image_IPP.E_codec: deQ error YUV 114 -128 int16\n",
      "[image_IPP.py:158 compute_br()] cat /tmp/original_motion_y_diff_comp_???.png | gzip -9 > /tmp/image_IPP_motion_y.gz\n",
      "[image_IPP.py:197 compute_br()] cat /tmp/original_motion_x_diff_comp_???.png | gzip -9 > /tmp/image_IPP_motion_y.gz\n",
      "[image_IPP.py:215 I_codec()] image_IPP.I_codec: max=255 min=0 type=uint8\n",
      "[image_IPP.py:74 encode()] W_k 32 -50\n",
      "[image_IPP.py:76 encode()] COMPUTED flow 0.30398550629615784 -0.3060075640678406\n",
      "[image_IPP.py:79 encode()] USED flow 0 0\n",
      "[image_IPP.py:238 E_codec_4_YCoCg()] image_IPP.E_codec: q_step 27\n",
      "[image_IPP.py:239 E_codec_4_YCoCg()] image_IPP.E_codec: error 131 -114 int16\n",
      "[image_IPP.py:241 E_codec_4_YCoCg()] image_IPP.E_codec: max=225 min=0 type=uint8\n",
      "[image_IPP.py:253 E_codec_4_YCoCg()] image_IPP.E_codec: deQ error YUV 62 -60 int16\n",
      "[image_IPP.py:74 encode()] W_k 32 -51\n",
      "[image_IPP.py:76 encode()] COMPUTED flow 0.2751511037349701 -0.4026305377483368\n",
      "[image_IPP.py:79 encode()] USED flow 0 0\n",
      "[image_IPP.py:238 E_codec_4_YCoCg()] image_IPP.E_codec: q_step 27\n",
      "[image_IPP.py:239 E_codec_4_YCoCg()] image_IPP.E_codec: error 119 -98 int16\n",
      "[image_IPP.py:241 E_codec_4_YCoCg()] image_IPP.E_codec: max=231 min=0 type=uint8\n",
      "[image_IPP.py:253 E_codec_4_YCoCg()] image_IPP.E_codec: deQ error YUV 61 -54 int16\n",
      "[image_IPP.py:74 encode()] W_k 32 -50\n",
      "[image_IPP.py:76 encode()] COMPUTED flow 0.2449876368045807 -0.2870011329650879\n",
      "[image_IPP.py:79 encode()] USED flow 0 0\n",
      "[image_IPP.py:238 E_codec_4_YCoCg()] image_IPP.E_codec: q_step 27\n",
      "[image_IPP.py:239 E_codec_4_YCoCg()] image_IPP.E_codec: error 120 -71 int16\n",
      "[image_IPP.py:241 E_codec_4_YCoCg()] image_IPP.E_codec: max=255 min=0 type=uint8\n",
      "[image_IPP.py:253 E_codec_4_YCoCg()] image_IPP.E_codec: deQ error YUV 35 -37 int16\n",
      "[image_IPP.py:74 encode()] W_k 32 -50\n",
      "[image_IPP.py:76 encode()] COMPUTED flow 0.388182133436203 -0.8962959051132202\n",
      "[image_IPP.py:79 encode()] USED flow 0 0\n",
      "[image_IPP.py:238 E_codec_4_YCoCg()] image_IPP.E_codec: q_step 27\n",
      "[image_IPP.py:239 E_codec_4_YCoCg()] image_IPP.E_codec: error 120 -132 int16\n",
      "[image_IPP.py:241 E_codec_4_YCoCg()] image_IPP.E_codec: max=255 min=0 type=uint8\n",
      "[image_IPP.py:253 E_codec_4_YCoCg()] image_IPP.E_codec: deQ error YUV 96 -128 int16\n",
      "[image_IPP.py:158 compute_br()] cat /tmp/original_motion_y_diff_comp_???.png | gzip -9 > /tmp/image_IPP_motion_y.gz\n",
      "[image_IPP.py:197 compute_br()] cat /tmp/original_motion_x_diff_comp_???.png | gzip -9 > /tmp/image_IPP_motion_y.gz\n",
      "[image_IPP.py:215 I_codec()] image_IPP.I_codec: max=255 min=0 type=uint8\n",
      "[image_IPP.py:74 encode()] W_k 32 -50\n",
      "[image_IPP.py:76 encode()] COMPUTED flow 0.30398550629615784 -0.3060075640678406\n",
      "[image_IPP.py:79 encode()] USED flow 0 0\n",
      "[image_IPP.py:238 E_codec_4_YCoCg()] image_IPP.E_codec: q_step 30\n",
      "[image_IPP.py:239 E_codec_4_YCoCg()] image_IPP.E_codec: error 141 -126 int16\n",
      "[image_IPP.py:241 E_codec_4_YCoCg()] image_IPP.E_codec: max=249 min=0 type=uint8\n",
      "[image_IPP.py:253 E_codec_4_YCoCg()] image_IPP.E_codec: deQ error YUV 65 -73 int16\n",
      "[image_IPP.py:74 encode()] W_k 32 -51\n",
      "[image_IPP.py:76 encode()] COMPUTED flow 0.2751511037349701 -0.4026305377483368\n",
      "[image_IPP.py:79 encode()] USED flow 0 0\n",
      "[image_IPP.py:238 E_codec_4_YCoCg()] image_IPP.E_codec: q_step 30\n",
      "[image_IPP.py:239 E_codec_4_YCoCg()] image_IPP.E_codec: error 127 -110 int16\n",
      "[image_IPP.py:241 E_codec_4_YCoCg()] image_IPP.E_codec: max=232 min=0 type=uint8\n",
      "[image_IPP.py:253 E_codec_4_YCoCg()] image_IPP.E_codec: deQ error YUV 69 -96 int16\n",
      "[image_IPP.py:74 encode()] W_k 32 -50\n",
      "[image_IPP.py:76 encode()] COMPUTED flow 0.2449876368045807 -0.2870011329650879\n",
      "[image_IPP.py:79 encode()] USED flow 0 0\n",
      "[image_IPP.py:238 E_codec_4_YCoCg()] image_IPP.E_codec: q_step 30\n",
      "[image_IPP.py:239 E_codec_4_YCoCg()] image_IPP.E_codec: error 126 -94 int16\n",
      "[image_IPP.py:241 E_codec_4_YCoCg()] image_IPP.E_codec: max=245 min=0 type=uint8\n",
      "[image_IPP.py:253 E_codec_4_YCoCg()] image_IPP.E_codec: deQ error YUV 27 -27 int16\n",
      "[image_IPP.py:74 encode()] W_k 32 -50\n",
      "[image_IPP.py:76 encode()] COMPUTED flow 0.388182133436203 -0.8962959051132202\n",
      "[image_IPP.py:79 encode()] USED flow 0 0\n"
     ]
    },
    {
     "name": "stdout",
     "output_type": "stream",
     "text": [
      "[image_IPP.py:238 E_codec_4_YCoCg()] image_IPP.E_codec: q_step 30\n",
      "[image_IPP.py:239 E_codec_4_YCoCg()] image_IPP.E_codec: error 125 -145 int16\n",
      "[image_IPP.py:241 E_codec_4_YCoCg()] image_IPP.E_codec: max=255 min=0 type=uint8\n",
      "[image_IPP.py:253 E_codec_4_YCoCg()] image_IPP.E_codec: deQ error YUV 112 -112 int16\n",
      "[image_IPP.py:158 compute_br()] cat /tmp/original_motion_y_diff_comp_???.png | gzip -9 > /tmp/image_IPP_motion_y.gz\n",
      "[image_IPP.py:197 compute_br()] cat /tmp/original_motion_x_diff_comp_???.png | gzip -9 > /tmp/image_IPP_motion_y.gz\n",
      "[image_IPP.py:215 I_codec()] image_IPP.I_codec: max=255 min=0 type=uint8\n",
      "[image_IPP.py:74 encode()] W_k 32 -50\n",
      "[image_IPP.py:76 encode()] COMPUTED flow 0.30398550629615784 -0.3060075640678406\n",
      "[image_IPP.py:79 encode()] USED flow 0 0\n",
      "[image_IPP.py:238 E_codec_4_YCoCg()] image_IPP.E_codec: q_step 33\n",
      "[image_IPP.py:239 E_codec_4_YCoCg()] image_IPP.E_codec: error 132 -121 int16\n",
      "[image_IPP.py:241 E_codec_4_YCoCg()] image_IPP.E_codec: max=255 min=0 type=uint8\n",
      "[image_IPP.py:253 E_codec_4_YCoCg()] image_IPP.E_codec: deQ error YUV 93 -76 int16\n",
      "[image_IPP.py:74 encode()] W_k 32 -51\n",
      "[image_IPP.py:76 encode()] COMPUTED flow 0.2751511037349701 -0.4026305377483368\n",
      "[image_IPP.py:79 encode()] USED flow 0 0\n",
      "[image_IPP.py:238 E_codec_4_YCoCg()] image_IPP.E_codec: q_step 33\n",
      "[image_IPP.py:239 E_codec_4_YCoCg()] image_IPP.E_codec: error 126 -117 int16\n",
      "[image_IPP.py:241 E_codec_4_YCoCg()] image_IPP.E_codec: max=226 min=0 type=uint8\n",
      "[image_IPP.py:253 E_codec_4_YCoCg()] image_IPP.E_codec: deQ error YUV 90 -53 int16\n",
      "[image_IPP.py:74 encode()] W_k 32 -50\n",
      "[image_IPP.py:76 encode()] COMPUTED flow 0.2449876368045807 -0.2870011329650879\n",
      "[image_IPP.py:79 encode()] USED flow 0 0\n",
      "[image_IPP.py:238 E_codec_4_YCoCg()] image_IPP.E_codec: q_step 33\n",
      "[image_IPP.py:239 E_codec_4_YCoCg()] image_IPP.E_codec: error 113 -89 int16\n",
      "[image_IPP.py:241 E_codec_4_YCoCg()] image_IPP.E_codec: max=255 min=0 type=uint8\n",
      "[image_IPP.py:253 E_codec_4_YCoCg()] image_IPP.E_codec: deQ error YUV 34 -62 int16\n",
      "[image_IPP.py:74 encode()] W_k 32 -50\n",
      "[image_IPP.py:76 encode()] COMPUTED flow 0.388182133436203 -0.8962959051132202\n",
      "[image_IPP.py:79 encode()] USED flow 0 0\n",
      "[image_IPP.py:238 E_codec_4_YCoCg()] image_IPP.E_codec: q_step 33\n",
      "[image_IPP.py:239 E_codec_4_YCoCg()] image_IPP.E_codec: error 113 -93 int16\n",
      "[image_IPP.py:241 E_codec_4_YCoCg()] image_IPP.E_codec: max=255 min=0 type=uint8\n",
      "[image_IPP.py:253 E_codec_4_YCoCg()] image_IPP.E_codec: deQ error YUV 121 -91 int16\n",
      "[image_IPP.py:158 compute_br()] cat /tmp/original_motion_y_diff_comp_???.png | gzip -9 > /tmp/image_IPP_motion_y.gz\n",
      "[image_IPP.py:197 compute_br()] cat /tmp/original_motion_x_diff_comp_???.png | gzip -9 > /tmp/image_IPP_motion_y.gz\n",
      "[image_IPP.py:215 I_codec()] image_IPP.I_codec: max=255 min=0 type=uint8\n",
      "[image_IPP.py:74 encode()] W_k 32 -50\n",
      "[image_IPP.py:76 encode()] COMPUTED flow 0.30398550629615784 -0.3060075640678406\n",
      "[image_IPP.py:79 encode()] USED flow 0 0\n",
      "[image_IPP.py:238 E_codec_4_YCoCg()] image_IPP.E_codec: q_step 36\n",
      "[image_IPP.py:239 E_codec_4_YCoCg()] image_IPP.E_codec: error 132 -113 int16\n",
      "[image_IPP.py:241 E_codec_4_YCoCg()] image_IPP.E_codec: max=255 min=0 type=uint8\n",
      "[image_IPP.py:253 E_codec_4_YCoCg()] image_IPP.E_codec: deQ error YUV 88 -81 int16\n",
      "[image_IPP.py:74 encode()] W_k 32 -51\n",
      "[image_IPP.py:76 encode()] COMPUTED flow 0.2751511037349701 -0.4026305377483368\n",
      "[image_IPP.py:79 encode()] USED flow 0 0\n",
      "[image_IPP.py:238 E_codec_4_YCoCg()] image_IPP.E_codec: q_step 36\n",
      "[image_IPP.py:239 E_codec_4_YCoCg()] image_IPP.E_codec: error 118 -110 int16\n",
      "[image_IPP.py:241 E_codec_4_YCoCg()] image_IPP.E_codec: max=244 min=0 type=uint8\n",
      "[image_IPP.py:253 E_codec_4_YCoCg()] image_IPP.E_codec: deQ error YUV 63 -53 int16\n",
      "[image_IPP.py:74 encode()] W_k 32 -50\n",
      "[image_IPP.py:76 encode()] COMPUTED flow 0.2449876368045807 -0.2870011329650879\n",
      "[image_IPP.py:79 encode()] USED flow 0 0\n",
      "[image_IPP.py:238 E_codec_4_YCoCg()] image_IPP.E_codec: q_step 36\n",
      "[image_IPP.py:239 E_codec_4_YCoCg()] image_IPP.E_codec: error 119 -111 int16\n",
      "[image_IPP.py:241 E_codec_4_YCoCg()] image_IPP.E_codec: max=255 min=0 type=uint8\n",
      "[image_IPP.py:253 E_codec_4_YCoCg()] image_IPP.E_codec: deQ error YUV 34 -63 int16\n",
      "[image_IPP.py:74 encode()] W_k 32 -50\n",
      "[image_IPP.py:76 encode()] COMPUTED flow 0.388182133436203 -0.8962959051132202\n",
      "[image_IPP.py:79 encode()] USED flow 0 0\n",
      "[image_IPP.py:238 E_codec_4_YCoCg()] image_IPP.E_codec: q_step 36\n",
      "[image_IPP.py:239 E_codec_4_YCoCg()] image_IPP.E_codec: error 122 -105 int16\n",
      "[image_IPP.py:241 E_codec_4_YCoCg()] image_IPP.E_codec: max=255 min=0 type=uint8\n",
      "[image_IPP.py:253 E_codec_4_YCoCg()] image_IPP.E_codec: deQ error YUV 76 -81 int16\n",
      "[image_IPP.py:158 compute_br()] cat /tmp/original_motion_y_diff_comp_???.png | gzip -9 > /tmp/image_IPP_motion_y.gz\n",
      "[image_IPP.py:197 compute_br()] cat /tmp/original_motion_x_diff_comp_???.png | gzip -9 > /tmp/image_IPP_motion_y.gz\n",
      "[image_IPP.py:215 I_codec()] image_IPP.I_codec: max=255 min=0 type=uint8\n",
      "[image_IPP.py:74 encode()] W_k 32 -50\n",
      "[image_IPP.py:76 encode()] COMPUTED flow 0.30398550629615784 -0.3060075640678406\n",
      "[image_IPP.py:79 encode()] USED flow 0 0\n",
      "[image_IPP.py:238 E_codec_4_YCoCg()] image_IPP.E_codec: q_step 39\n",
      "[image_IPP.py:239 E_codec_4_YCoCg()] image_IPP.E_codec: error 159 -124 int16\n",
      "[image_IPP.py:241 E_codec_4_YCoCg()] image_IPP.E_codec: max=255 min=0 type=uint8\n",
      "[image_IPP.py:253 E_codec_4_YCoCg()] image_IPP.E_codec: deQ error YUV 78 -74 int16\n",
      "[image_IPP.py:74 encode()] W_k 32 -51\n",
      "[image_IPP.py:76 encode()] COMPUTED flow 0.2751511037349701 -0.4026305377483368\n",
      "[image_IPP.py:79 encode()] USED flow 0 0\n",
      "[image_IPP.py:238 E_codec_4_YCoCg()] image_IPP.E_codec: q_step 39\n",
      "[image_IPP.py:239 E_codec_4_YCoCg()] image_IPP.E_codec: error 162 -125 int16\n",
      "[image_IPP.py:241 E_codec_4_YCoCg()] image_IPP.E_codec: max=255 min=0 type=uint8\n",
      "[image_IPP.py:253 E_codec_4_YCoCg()] image_IPP.E_codec: deQ error YUV 64 -76 int16\n",
      "[image_IPP.py:74 encode()] W_k 32 -50\n",
      "[image_IPP.py:76 encode()] COMPUTED flow 0.2449876368045807 -0.2870011329650879\n",
      "[image_IPP.py:79 encode()] USED flow 0 0\n",
      "[image_IPP.py:238 E_codec_4_YCoCg()] image_IPP.E_codec: q_step 39\n",
      "[image_IPP.py:239 E_codec_4_YCoCg()] image_IPP.E_codec: error 162 -119 int16\n",
      "[image_IPP.py:241 E_codec_4_YCoCg()] image_IPP.E_codec: max=255 min=0 type=uint8\n",
      "[image_IPP.py:253 E_codec_4_YCoCg()] image_IPP.E_codec: deQ error YUV 49 -49 int16\n",
      "[image_IPP.py:74 encode()] W_k 32 -50\n",
      "[image_IPP.py:76 encode()] COMPUTED flow 0.388182133436203 -0.8962959051132202\n",
      "[image_IPP.py:79 encode()] USED flow 0 0\n",
      "[image_IPP.py:238 E_codec_4_YCoCg()] image_IPP.E_codec: q_step 39\n",
      "[image_IPP.py:239 E_codec_4_YCoCg()] image_IPP.E_codec: error 166 -118 int16\n",
      "[image_IPP.py:241 E_codec_4_YCoCg()] image_IPP.E_codec: max=255 min=0 type=uint8\n",
      "[image_IPP.py:253 E_codec_4_YCoCg()] image_IPP.E_codec: deQ error YUV 61 -65 int16\n",
      "[image_IPP.py:158 compute_br()] cat /tmp/original_motion_y_diff_comp_???.png | gzip -9 > /tmp/image_IPP_motion_y.gz\n",
      "[image_IPP.py:197 compute_br()] cat /tmp/original_motion_x_diff_comp_???.png | gzip -9 > /tmp/image_IPP_motion_y.gz\n",
      "     1\tQ_step: 21 BPP: 0.1121790824915825 KBPS: 1023.504 Average AMSE: 40.898731455176765\n",
      "     2\tQ_step: 24 BPP: 0.0870580808080808 KBPS: 794.304 Average AMSE: 47.93592960858586\n",
      "     3\tQ_step: 27 BPP: 0.07012310606060607 KBPS: 639.792 Average AMSE: 56.87987492108586\n",
      "     4\tQ_step: 30 BPP: 0.05833859427609427 KBPS: 532.272 Average AMSE: 69.76688105008417\n",
      "     5\tQ_step: 33 BPP: 0.05063131313131313 KBPS: 461.952 Average AMSE: 86.63204834806398\n",
      "     6\tQ_step: 36 BPP: 0.044134048821548824 KBPS: 402.672 Average AMSE: 114.72044928451177\n",
      "     7\tQ_step: 39 BPP: 0.039867424242424246 KBPS: 363.744 Average AMSE: 164.29030013678454\n"
     ]
    }
   ],
   "source": [
    "# You can see in real-time the output by running \"tail -f /tmp/output\"\n",
    "!python RD_curve.py --first_frame=0 --N_frames=$N_frames 1> >(tee /tmp/output_image_IPP >&1) | grep BPP | grep Average | cat -n"
   ]
  },
  {
   "cell_type": "code",
   "execution_count": 12,
   "metadata": {},
   "outputs": [],
   "source": [
    "!grep BPP /tmp/output_image_IPP | grep Average | cut -d ' ' -f 4,9 | tr ' ' '\\t'  > /tmp/image_IPP.txt"
   ]
  },
  {
   "cell_type": "code",
   "execution_count": 13,
   "metadata": {},
   "outputs": [
    {
     "name": "stdout",
     "output_type": "stream",
     "text": [
      "0.1121790824915825\t40.898731455176765\r\n",
      "0.0870580808080808\t47.93592960858586\r\n",
      "0.07012310606060607\t56.87987492108586\r\n",
      "0.05833859427609427\t69.76688105008417\r\n",
      "0.05063131313131313\t86.63204834806398\r\n",
      "0.044134048821548824\t114.72044928451177\r\n",
      "0.039867424242424246\t164.29030013678454\r\n"
     ]
    }
   ],
   "source": [
    "!cat /tmp/image_IPP.txt"
   ]
  },
  {
   "cell_type": "code",
   "execution_count": 14,
   "metadata": {},
   "outputs": [],
   "source": [
    "RD_image_IPP = []\n",
    "with open(\"/tmp/image_IPP.txt\", 'r') as f:\n",
    "    for line in f:\n",
    "        rate, _distortion = line.split('\\t')\n",
    "        RD_image_IPP.append((float(rate), float(_distortion)))"
   ]
  },
  {
   "cell_type": "markdown",
   "metadata": {},
   "source": [
    "## Testing `image_IPP_adaptive.py`"
   ]
  },
  {
   "cell_type": "markdown",
   "metadata": {},
   "source": [
    "### Select `image_IPP_adaptive` in `RD_curve.py`"
   ]
  },
  {
   "cell_type": "code",
   "execution_count": 38,
   "metadata": {},
   "outputs": [],
   "source": [
    "!sed -z -i 's/\\nimport image_IPP as codec\\n/\\n#import image_IPP as codec\\n/g' RD_curve.py\n",
    "!sed -z -i 's/\\n#import image_IPP_adaptive as codec\\n/\\nimport image_IPP_adaptive as codec\\n/g' RD_curve.py\n",
    "!sed -z -i 's/\\nimport MP4 as codec\\n/\\n#import MP4 as codec\\n/g' RD_curve.py\n",
    "!sed -z -i 's/\\nimport IPP_compressor as codec\\n/\\n#import IPP_compressor as codec\\n/g' RD_curve.py\n",
    "!sed -z -i 's/\\nimage_IPP_quantized_prediction as codec\\n/\\n#import image_IPP_quantized_prediction as codec\\n/g' RD_curve.py\n",
    "!sed -z -i 's/\\nimport image_IPP_quantized_residue as codec\\n/\\n#import image_IPP_quantized_residue as codec\\n/g' RD_curve.py"
   ]
  },
  {
   "cell_type": "code",
   "execution_count": 39,
   "metadata": {},
   "outputs": [
    {
     "name": "stdout",
     "output_type": "stream",
     "text": [
      "     5\t#import debug\r\n",
      "     6\timport config\r\n",
      "     7\timport distortion\r\n",
      "     8\timport image_3 as frame\r\n",
      "    11\t#import image_interpolated_IPP as codec\r\n",
      "    12\t#import image_IPP as codec\r\n",
      "    13\timport image_IPP_adaptive as codec\r\n",
      "    14\t#import image_IPP_quantized_prediction as codec\r\n",
      "    15\t#import image_IPP_quantized_residue as codec\r\n",
      "    16\t#import MP4 as codec\r\n",
      "    17\t#import IPP_compressor as codec\r\n",
      "    19\timport logging\r\n",
      "    28\timport argparse\r\n"
     ]
    }
   ],
   "source": [
    "!cat -n RD_curve.py | grep \"import\" "
   ]
  },
  {
   "cell_type": "code",
   "execution_count": 40,
   "metadata": {},
   "outputs": [],
   "source": [
    "!sed -z -i 's/\\ntransform = \"DWT\"\\n/\\n#transform = \"DWT\"\\n/g' config.py\n",
    "!sed -z -i 's/\\ntransform = \"LP\"\\n/\\n#transform = \"LP\"\\n/g' config.py\n",
    "!sed -z -i 's/\\n#transform = None\\n/\\ntransform = None\\n/g' config.py"
   ]
  },
  {
   "cell_type": "code",
   "execution_count": 41,
   "metadata": {},
   "outputs": [
    {
     "name": "stdout",
     "output_type": "stream",
     "text": [
      "     3\t#multiresolution_transform = \"DWT\"\r\n",
      "     4\t#multiresolution_transform = \"LP\"\r\n",
      "     5\tmultiresolution_transform = None\r\n"
     ]
    }
   ],
   "source": [
    "!cat -n config.py | grep \"transform\" "
   ]
  },
  {
   "cell_type": "code",
   "execution_count": 42,
   "metadata": {},
   "outputs": [],
   "source": [
    "!sed -z -i 's/\\ncolor = \"YCoCg\\n/\\n#color = \"YCoCg\\n/g' config.py\n",
    "!sed -z -i 's/\\ncolor = \"YCoCg\\n/\\n#color = \"YCoCg\\n/g' config.py\n",
    "!sed -z -i 's/\\n#color = \"YCoCg\\n/\\ncolor = \"YCoCg\\n/g' config.py"
   ]
  },
  {
   "cell_type": "code",
   "execution_count": 43,
   "metadata": {},
   "outputs": [
    {
     "name": "stdout",
     "output_type": "stream",
     "text": [
      "    10\tcolor = \"YCoCg\"\r\n",
      "    11\t#color = \"YCrCb\"\r\n",
      "    12\t#color = \"RGB\"\r\n"
     ]
    }
   ],
   "source": [
    "!cat -n config.py | grep \"color\" "
   ]
  },
  {
   "cell_type": "code",
   "execution_count": 44,
   "metadata": {},
   "outputs": [
    {
     "name": "stdout",
     "output_type": "stream",
     "text": [
      "akiyo_cif.y4m exists.\n",
      "ffmpeg version 3.4.8-0ubuntu0.2 Copyright (c) 2000-2020 the FFmpeg developers\n",
      "  built with gcc 7 (Ubuntu 7.5.0-3ubuntu1~18.04)\n",
      "  configuration: --prefix=/usr --extra-version=0ubuntu0.2 --toolchain=hardened --libdir=/usr/lib/x86_64-linux-gnu --incdir=/usr/include/x86_64-linux-gnu --enable-gpl --disable-stripping --enable-avresample --enable-avisynth --enable-gnutls --enable-ladspa --enable-libass --enable-libbluray --enable-libbs2b --enable-libcaca --enable-libcdio --enable-libflite --enable-libfontconfig --enable-libfreetype --enable-libfribidi --enable-libgme --enable-libgsm --enable-libmp3lame --enable-libmysofa --enable-libopenjpeg --enable-libopenmpt --enable-libopus --enable-libpulse --enable-librubberband --enable-librsvg --enable-libshine --enable-libsnappy --enable-libsoxr --enable-libspeex --enable-libssh --enable-libtheora --enable-libtwolame --enable-libvorbis --enable-libvpx --enable-libwavpack --enable-libwebp --enable-libx265 --enable-libxml2 --enable-libxvid --enable-libzmq --enable-libzvbi --enable-omx --enable-openal --enable-opengl --enable-sdl2 --enable-libdc1394 --enable-libdrm --enable-libiec61883 --enable-chromaprint --enable-frei0r --enable-libopencv --enable-libx264 --enable-shared\n",
      "  libavutil      55. 78.100 / 55. 78.100\n",
      "  libavcodec     57.107.100 / 57.107.100\n",
      "  libavformat    57. 83.100 / 57. 83.100\n",
      "  libavdevice    57. 10.100 / 57. 10.100\n",
      "  libavfilter     6.107.100 /  6.107.100\n",
      "  libavresample   3.  7.  0 /  3.  7.  0\n",
      "  libswscale      4.  8.100 /  4.  8.100\n",
      "  libswresample   2.  9.100 /  2.  9.100\n",
      "  libpostproc    54.  7.100 / 54.  7.100\n",
      "Input #0, yuv4mpegpipe, from 'akiyo_cif.y4m':\n",
      "  Duration: 00:00:10.01, start: 0.000000, bitrate: 36460 kb/s\n",
      "    Stream #0:0: Video: rawvideo (I420 / 0x30323449), yuv420p(progressive), 352x288, SAR 128:117 DAR 1408:1053, 29.97 fps, 29.97 tbr, 29.97 tbn, 29.97 tbc\n",
      "Stream mapping:\n",
      "  Stream #0:0 -> #0:0 (rawvideo (native) -> png (native))\n",
      "Press [q] to stop, [?] for help\n",
      "Output #0, image2, to '/tmp/original_%03d.png':\n",
      "  Metadata:\n",
      "    encoder         : Lavf57.83.100\n",
      "    Stream #0:0: Video: png, rgb24, 352x288 [SAR 128:117 DAR 1408:1053], q=2-31, 200 kb/s, 29.97 fps, 29.97 tbn, 29.97 tbc\n",
      "    Metadata:\n",
      "      encoder         : Lavc57.107.100 png\n",
      "frame=  300 fps= 63 q=-0.0 Lsize=N/A time=00:00:10.01 bitrate=N/A speed= 2.1x    \n",
      "video:52297kB audio:0kB subtitle:0kB other streams:0kB global headers:0kB muxing overhead: unknown\n"
     ]
    }
   ],
   "source": [
    "!rm /tmp/*.png\n",
    "!../sequences/$sequence/runme.sh"
   ]
  },
  {
   "cell_type": "code",
   "execution_count": 45,
   "metadata": {
    "scrolled": true
   },
   "outputs": [
    {
     "name": "stdout",
     "output_type": "stream",
     "text": [
      "[image_IPP.py:215 I_codec()] image_IPP.I_codec: max=255 min=0 type=uint8\n",
      "[image_IPP.py:74 encode()] W_k 32 -50\n",
      "[image_IPP.py:76 encode()] COMPUTED flow 0.30398550629615784 -0.3060075640678406\n",
      "[image_IPP.py:79 encode()] USED flow 0 0\n",
      "[image_IPP.py:238 E_codec_4_YCoCg()] image_IPP.E_codec: q_step 21\n",
      "[image_IPP.py:239 E_codec_4_YCoCg()] image_IPP.E_codec: error 134 -123 int16\n",
      "[image_IPP.py:241 E_codec_4_YCoCg()] image_IPP.E_codec: max=198 min=0 type=uint8\n",
      "[image_IPP.py:253 E_codec_4_YCoCg()] image_IPP.E_codec: deQ error YUV 63 -58 int16\n",
      "[image_IPP.py:238 E_codec_4_YCoCg()] image_IPP.E_codec: q_step 21\n",
      "[image_IPP.py:239 E_codec_4_YCoCg()] image_IPP.E_codec: error 127 -67 int16\n",
      "[image_IPP.py:241 E_codec_4_YCoCg()] image_IPP.E_codec: max=160 min=0 type=uint8\n",
      "[image_IPP.py:253 E_codec_4_YCoCg()] image_IPP.E_codec: deQ error YUV 50 -24 int16\n",
      "[image_IPP.py:74 encode()] W_k 32 -51\n",
      "[image_IPP.py:76 encode()] COMPUTED flow 0.2751511037349701 -0.4026305377483368\n",
      "[image_IPP.py:79 encode()] USED flow 0 0\n",
      "[image_IPP.py:238 E_codec_4_YCoCg()] image_IPP.E_codec: q_step 21\n",
      "[image_IPP.py:239 E_codec_4_YCoCg()] image_IPP.E_codec: error 134 -123 int16\n",
      "[image_IPP.py:241 E_codec_4_YCoCg()] image_IPP.E_codec: max=205 min=0 type=uint8\n",
      "[image_IPP.py:253 E_codec_4_YCoCg()] image_IPP.E_codec: deQ error YUV 60 -57 int16\n",
      "[image_IPP.py:238 E_codec_4_YCoCg()] image_IPP.E_codec: q_step 21\n",
      "[image_IPP.py:239 E_codec_4_YCoCg()] image_IPP.E_codec: error 87 -16 int16\n",
      "[image_IPP.py:241 E_codec_4_YCoCg()] image_IPP.E_codec: max=233 min=106 type=uint8\n",
      "[image_IPP.py:253 E_codec_4_YCoCg()] image_IPP.E_codec: deQ error YUV 82 -26 int16\n",
      "[image_IPP.py:74 encode()] W_k 32 -50\n",
      "[image_IPP.py:76 encode()] COMPUTED flow 0.2449876368045807 -0.2870011329650879\n",
      "[image_IPP.py:79 encode()] USED flow 0 0\n",
      "[image_IPP.py:238 E_codec_4_YCoCg()] image_IPP.E_codec: q_step 21\n",
      "[image_IPP.py:239 E_codec_4_YCoCg()] image_IPP.E_codec: error 134 -122 int16\n",
      "[image_IPP.py:241 E_codec_4_YCoCg()] image_IPP.E_codec: max=204 min=0 type=uint8\n",
      "[image_IPP.py:253 E_codec_4_YCoCg()] image_IPP.E_codec: deQ error YUV 62 -50 int16\n",
      "[image_IPP.py:238 E_codec_4_YCoCg()] image_IPP.E_codec: q_step 21\n",
      "[image_IPP.py:239 E_codec_4_YCoCg()] image_IPP.E_codec: error 120 -75 int16\n",
      "[image_IPP.py:241 E_codec_4_YCoCg()] image_IPP.E_codec: max=179 min=0 type=uint8\n",
      "[image_IPP.py:253 E_codec_4_YCoCg()] image_IPP.E_codec: deQ error YUV 34 -36 int16\n",
      "[image_IPP.py:74 encode()] W_k 32 -50\n",
      "[image_IPP.py:76 encode()] COMPUTED flow 0.388182133436203 -0.8962959051132202\n",
      "[image_IPP.py:79 encode()] USED flow 0 0\n",
      "[image_IPP.py:238 E_codec_4_YCoCg()] image_IPP.E_codec: q_step 21\n",
      "[image_IPP.py:239 E_codec_4_YCoCg()] image_IPP.E_codec: error 134 -123 int16\n",
      "[image_IPP.py:241 E_codec_4_YCoCg()] image_IPP.E_codec: max=255 min=0 type=uint8\n",
      "[image_IPP.py:253 E_codec_4_YCoCg()] image_IPP.E_codec: deQ error YUV 110 -116 int16\n",
      "[image_IPP.py:238 E_codec_4_YCoCg()] image_IPP.E_codec: q_step 21\n",
      "[image_IPP.py:239 E_codec_4_YCoCg()] image_IPP.E_codec: error 120 -121 int16\n",
      "[image_IPP.py:241 E_codec_4_YCoCg()] image_IPP.E_codec: max=238 min=0 type=uint8\n",
      "[image_IPP.py:253 E_codec_4_YCoCg()] image_IPP.E_codec: deQ error YUV 110 -118 int16\n",
      "[image_IPP.py:158 compute_br()] cat /tmp/original_motion_y_diff_comp_???.png | gzip -9 > /tmp/image_IPP_motion_y.gz\n",
      "[image_IPP.py:197 compute_br()] cat /tmp/original_motion_x_diff_comp_???.png | gzip -9 > /tmp/image_IPP_motion_y.gz\n",
      "[image_IPP.py:215 I_codec()] image_IPP.I_codec: max=255 min=0 type=uint8\n",
      "[image_IPP.py:74 encode()] W_k 32 -50\n",
      "[image_IPP.py:76 encode()] COMPUTED flow 0.30398550629615784 -0.3060075640678406\n",
      "[image_IPP.py:79 encode()] USED flow 0 0\n",
      "[image_IPP.py:238 E_codec_4_YCoCg()] image_IPP.E_codec: q_step 24\n",
      "[image_IPP.py:239 E_codec_4_YCoCg()] image_IPP.E_codec: error 129 -113 int16\n",
      "[image_IPP.py:241 E_codec_4_YCoCg()] image_IPP.E_codec: max=214 min=0 type=uint8\n",
      "[image_IPP.py:253 E_codec_4_YCoCg()] image_IPP.E_codec: deQ error YUV 66 -48 int16\n",
      "[image_IPP.py:238 E_codec_4_YCoCg()] image_IPP.E_codec: q_step 24\n",
      "[image_IPP.py:239 E_codec_4_YCoCg()] image_IPP.E_codec: error 128 -79 int16\n",
      "[image_IPP.py:241 E_codec_4_YCoCg()] image_IPP.E_codec: max=233 min=0 type=uint8\n",
      "[image_IPP.py:253 E_codec_4_YCoCg()] image_IPP.E_codec: deQ error YUV 89 -36 int16\n",
      "[image_IPP.py:74 encode()] W_k 32 -51\n",
      "[image_IPP.py:76 encode()] COMPUTED flow 0.2751511037349701 -0.4026305377483368\n",
      "[image_IPP.py:79 encode()] USED flow 0 0\n",
      "[image_IPP.py:238 E_codec_4_YCoCg()] image_IPP.E_codec: q_step 24\n",
      "[image_IPP.py:239 E_codec_4_YCoCg()] image_IPP.E_codec: error 129 -118 int16\n",
      "[image_IPP.py:241 E_codec_4_YCoCg()] image_IPP.E_codec: max=224 min=0 type=uint8\n",
      "[image_IPP.py:253 E_codec_4_YCoCg()] image_IPP.E_codec: deQ error YUV 69 -59 int16\n",
      "[image_IPP.py:238 E_codec_4_YCoCg()] image_IPP.E_codec: q_step 24\n",
      "[image_IPP.py:239 E_codec_4_YCoCg()] image_IPP.E_codec: error 126 -74 int16\n",
      "[image_IPP.py:241 E_codec_4_YCoCg()] image_IPP.E_codec: max=224 min=0 type=uint8\n",
      "[image_IPP.py:253 E_codec_4_YCoCg()] image_IPP.E_codec: deQ error YUV 46 -28 int16\n",
      "[image_IPP.py:74 encode()] W_k 32 -50\n",
      "[image_IPP.py:76 encode()] COMPUTED flow 0.2449876368045807 -0.2870011329650879\n",
      "[image_IPP.py:79 encode()] USED flow 0 0\n",
      "[image_IPP.py:238 E_codec_4_YCoCg()] image_IPP.E_codec: q_step 24\n",
      "[image_IPP.py:239 E_codec_4_YCoCg()] image_IPP.E_codec: error 127 -112 int16\n",
      "[image_IPP.py:241 E_codec_4_YCoCg()] image_IPP.E_codec: max=246 min=0 type=uint8\n",
      "[image_IPP.py:253 E_codec_4_YCoCg()] image_IPP.E_codec: deQ error YUV 67 -53 int16\n",
      "[image_IPP.py:238 E_codec_4_YCoCg()] image_IPP.E_codec: q_step 24\n",
      "[image_IPP.py:239 E_codec_4_YCoCg()] image_IPP.E_codec: error 0 0 int16\n",
      "[image_IPP.py:241 E_codec_4_YCoCg()] image_IPP.E_codec: max=128 min=128 type=uint8\n",
      "[image_IPP.py:253 E_codec_4_YCoCg()] image_IPP.E_codec: deQ error YUV 0 0 int16\n",
      "[image_IPP.py:74 encode()] W_k 32 -50\n",
      "[image_IPP.py:76 encode()] COMPUTED flow 0.388182133436203 -0.8962959051132202\n",
      "[image_IPP.py:79 encode()] USED flow 0 0\n",
      "[image_IPP.py:238 E_codec_4_YCoCg()] image_IPP.E_codec: q_step 24\n",
      "[image_IPP.py:239 E_codec_4_YCoCg()] image_IPP.E_codec: error 131 -127 int16\n",
      "[image_IPP.py:241 E_codec_4_YCoCg()] image_IPP.E_codec: max=255 min=0 type=uint8\n",
      "[image_IPP.py:253 E_codec_4_YCoCg()] image_IPP.E_codec: deQ error YUV 106 -128 int16\n",
      "[image_IPP.py:238 E_codec_4_YCoCg()] image_IPP.E_codec: q_step 24\n",
      "[image_IPP.py:239 E_codec_4_YCoCg()] image_IPP.E_codec: error 121 -127 int16\n",
      "[image_IPP.py:241 E_codec_4_YCoCg()] image_IPP.E_codec: max=253 min=0 type=uint8\n",
      "[image_IPP.py:253 E_codec_4_YCoCg()] image_IPP.E_codec: deQ error YUV 105 -127 int16\n",
      "[image_IPP.py:158 compute_br()] cat /tmp/original_motion_y_diff_comp_???.png | gzip -9 > /tmp/image_IPP_motion_y.gz\n",
      "[image_IPP.py:197 compute_br()] cat /tmp/original_motion_x_diff_comp_???.png | gzip -9 > /tmp/image_IPP_motion_y.gz\n",
      "[image_IPP.py:215 I_codec()] image_IPP.I_codec: max=255 min=0 type=uint8\n",
      "[image_IPP.py:74 encode()] W_k 32 -50\n",
      "[image_IPP.py:76 encode()] COMPUTED flow 0.30398550629615784 -0.3060075640678406\n",
      "[image_IPP.py:79 encode()] USED flow 0 0\n",
      "[image_IPP.py:238 E_codec_4_YCoCg()] image_IPP.E_codec: q_step 27\n",
      "[image_IPP.py:239 E_codec_4_YCoCg()] image_IPP.E_codec: error 131 -114 int16\n",
      "[image_IPP.py:241 E_codec_4_YCoCg()] image_IPP.E_codec: max=225 min=0 type=uint8\n",
      "[image_IPP.py:253 E_codec_4_YCoCg()] image_IPP.E_codec: deQ error YUV 62 -60 int16\n",
      "[image_IPP.py:238 E_codec_4_YCoCg()] image_IPP.E_codec: q_step 27\n",
      "[image_IPP.py:239 E_codec_4_YCoCg()] image_IPP.E_codec: error 131 -114 int16\n",
      "[image_IPP.py:241 E_codec_4_YCoCg()] image_IPP.E_codec: max=233 min=0 type=uint8\n",
      "[image_IPP.py:253 E_codec_4_YCoCg()] image_IPP.E_codec: deQ error YUV 75 -55 int16\n",
      "[image_IPP.py:74 encode()] W_k 32 -51\n",
      "[image_IPP.py:76 encode()] COMPUTED flow 0.2751511037349701 -0.4026305377483368\n",
      "[image_IPP.py:79 encode()] USED flow 0 0\n",
      "[image_IPP.py:238 E_codec_4_YCoCg()] image_IPP.E_codec: q_step 27\n",
      "[image_IPP.py:239 E_codec_4_YCoCg()] image_IPP.E_codec: error 131 -112 int16\n",
      "[image_IPP.py:241 E_codec_4_YCoCg()] image_IPP.E_codec: max=212 min=0 type=uint8\n",
      "[image_IPP.py:253 E_codec_4_YCoCg()] image_IPP.E_codec: deQ error YUV 64 -57 int16\n",
      "[image_IPP.py:238 E_codec_4_YCoCg()] image_IPP.E_codec: q_step 27\n",
      "[image_IPP.py:239 E_codec_4_YCoCg()] image_IPP.E_codec: error 119 -68 int16\n"
     ]
    },
    {
     "name": "stdout",
     "output_type": "stream",
     "text": [
      "[image_IPP.py:241 E_codec_4_YCoCg()] image_IPP.E_codec: max=201 min=0 type=uint8\n",
      "[image_IPP.py:253 E_codec_4_YCoCg()] image_IPP.E_codec: deQ error YUV 49 -38 int16\n",
      "[image_IPP.py:74 encode()] W_k 32 -50\n",
      "[image_IPP.py:76 encode()] COMPUTED flow 0.2449876368045807 -0.2870011329650879\n",
      "[image_IPP.py:79 encode()] USED flow 0 0\n",
      "[image_IPP.py:238 E_codec_4_YCoCg()] image_IPP.E_codec: q_step 27\n",
      "[image_IPP.py:239 E_codec_4_YCoCg()] image_IPP.E_codec: error 133 -111 int16\n",
      "[image_IPP.py:241 E_codec_4_YCoCg()] image_IPP.E_codec: max=237 min=0 type=uint8\n",
      "[image_IPP.py:253 E_codec_4_YCoCg()] image_IPP.E_codec: deQ error YUV 62 -57 int16\n",
      "[image_IPP.py:238 E_codec_4_YCoCg()] image_IPP.E_codec: q_step 27\n",
      "[image_IPP.py:239 E_codec_4_YCoCg()] image_IPP.E_codec: error 122 -64 int16\n",
      "[image_IPP.py:241 E_codec_4_YCoCg()] image_IPP.E_codec: max=237 min=0 type=uint8\n",
      "[image_IPP.py:253 E_codec_4_YCoCg()] image_IPP.E_codec: deQ error YUV 29 -27 int16\n",
      "[image_IPP.py:74 encode()] W_k 32 -50\n",
      "[image_IPP.py:76 encode()] COMPUTED flow 0.388182133436203 -0.8962959051132202\n",
      "[image_IPP.py:79 encode()] USED flow 0 0\n",
      "[image_IPP.py:238 E_codec_4_YCoCg()] image_IPP.E_codec: q_step 27\n",
      "[image_IPP.py:239 E_codec_4_YCoCg()] image_IPP.E_codec: error 132 -144 int16\n",
      "[image_IPP.py:241 E_codec_4_YCoCg()] image_IPP.E_codec: max=255 min=0 type=uint8\n",
      "[image_IPP.py:253 E_codec_4_YCoCg()] image_IPP.E_codec: deQ error YUV 107 -123 int16\n",
      "[image_IPP.py:238 E_codec_4_YCoCg()] image_IPP.E_codec: q_step 27\n",
      "[image_IPP.py:239 E_codec_4_YCoCg()] image_IPP.E_codec: error 114 -144 int16\n",
      "[image_IPP.py:241 E_codec_4_YCoCg()] image_IPP.E_codec: max=255 min=0 type=uint8\n",
      "[image_IPP.py:253 E_codec_4_YCoCg()] image_IPP.E_codec: deQ error YUV 100 -126 int16\n",
      "[image_IPP.py:158 compute_br()] cat /tmp/original_motion_y_diff_comp_???.png | gzip -9 > /tmp/image_IPP_motion_y.gz\n",
      "[image_IPP.py:197 compute_br()] cat /tmp/original_motion_x_diff_comp_???.png | gzip -9 > /tmp/image_IPP_motion_y.gz\n",
      "[image_IPP.py:215 I_codec()] image_IPP.I_codec: max=255 min=0 type=uint8\n",
      "[image_IPP.py:74 encode()] W_k 32 -50\n",
      "[image_IPP.py:76 encode()] COMPUTED flow 0.30398550629615784 -0.3060075640678406\n",
      "[image_IPP.py:79 encode()] USED flow 0 0\n",
      "[image_IPP.py:238 E_codec_4_YCoCg()] image_IPP.E_codec: q_step 30\n",
      "[image_IPP.py:239 E_codec_4_YCoCg()] image_IPP.E_codec: error 141 -126 int16\n",
      "[image_IPP.py:241 E_codec_4_YCoCg()] image_IPP.E_codec: max=249 min=0 type=uint8\n",
      "[image_IPP.py:253 E_codec_4_YCoCg()] image_IPP.E_codec: deQ error YUV 65 -73 int16\n",
      "[image_IPP.py:238 E_codec_4_YCoCg()] image_IPP.E_codec: q_step 30\n",
      "[image_IPP.py:239 E_codec_4_YCoCg()] image_IPP.E_codec: error 141 -126 int16\n",
      "[image_IPP.py:241 E_codec_4_YCoCg()] image_IPP.E_codec: max=249 min=0 type=uint8\n",
      "[image_IPP.py:253 E_codec_4_YCoCg()] image_IPP.E_codec: deQ error YUV 75 -71 int16\n",
      "[image_IPP.py:74 encode()] W_k 32 -51\n",
      "[image_IPP.py:76 encode()] COMPUTED flow 0.2751511037349701 -0.4026305377483368\n",
      "[image_IPP.py:79 encode()] USED flow 0 0\n",
      "[image_IPP.py:238 E_codec_4_YCoCg()] image_IPP.E_codec: q_step 30\n",
      "[image_IPP.py:239 E_codec_4_YCoCg()] image_IPP.E_codec: error 130 -110 int16\n",
      "[image_IPP.py:241 E_codec_4_YCoCg()] image_IPP.E_codec: max=241 min=0 type=uint8\n",
      "[image_IPP.py:253 E_codec_4_YCoCg()] image_IPP.E_codec: deQ error YUV 56 -65 int16\n",
      "[image_IPP.py:238 E_codec_4_YCoCg()] image_IPP.E_codec: q_step 30\n",
      "[image_IPP.py:239 E_codec_4_YCoCg()] image_IPP.E_codec: error 113 -86 int16\n",
      "[image_IPP.py:241 E_codec_4_YCoCg()] image_IPP.E_codec: max=241 min=0 type=uint8\n",
      "[image_IPP.py:253 E_codec_4_YCoCg()] image_IPP.E_codec: deQ error YUV 52 -45 int16\n",
      "[image_IPP.py:74 encode()] W_k 32 -50\n",
      "[image_IPP.py:76 encode()] COMPUTED flow 0.2449876368045807 -0.2870011329650879\n",
      "[image_IPP.py:79 encode()] USED flow 0 0\n",
      "[image_IPP.py:238 E_codec_4_YCoCg()] image_IPP.E_codec: q_step 30\n",
      "[image_IPP.py:239 E_codec_4_YCoCg()] image_IPP.E_codec: error 130 -106 int16\n",
      "[image_IPP.py:241 E_codec_4_YCoCg()] image_IPP.E_codec: max=240 min=0 type=uint8\n",
      "[image_IPP.py:253 E_codec_4_YCoCg()] image_IPP.E_codec: deQ error YUV 50 -64 int16\n",
      "[image_IPP.py:238 E_codec_4_YCoCg()] image_IPP.E_codec: q_step 30\n",
      "[image_IPP.py:239 E_codec_4_YCoCg()] image_IPP.E_codec: error 113 -82 int16\n",
      "[image_IPP.py:241 E_codec_4_YCoCg()] image_IPP.E_codec: max=240 min=0 type=uint8\n",
      "[image_IPP.py:253 E_codec_4_YCoCg()] image_IPP.E_codec: deQ error YUV 41 -30 int16\n",
      "[image_IPP.py:74 encode()] W_k 32 -50\n",
      "[image_IPP.py:76 encode()] COMPUTED flow 0.388182133436203 -0.8962959051132202\n",
      "[image_IPP.py:79 encode()] USED flow 0 0\n",
      "[image_IPP.py:238 E_codec_4_YCoCg()] image_IPP.E_codec: q_step 30\n",
      "[image_IPP.py:239 E_codec_4_YCoCg()] image_IPP.E_codec: error 129 -140 int16\n",
      "[image_IPP.py:241 E_codec_4_YCoCg()] image_IPP.E_codec: max=255 min=0 type=uint8\n",
      "[image_IPP.py:253 E_codec_4_YCoCg()] image_IPP.E_codec: deQ error YUV 112 -121 int16\n",
      "[image_IPP.py:238 E_codec_4_YCoCg()] image_IPP.E_codec: q_step 30\n",
      "[image_IPP.py:239 E_codec_4_YCoCg()] image_IPP.E_codec: error 119 -140 int16\n",
      "[image_IPP.py:241 E_codec_4_YCoCg()] image_IPP.E_codec: max=255 min=0 type=uint8\n",
      "[image_IPP.py:253 E_codec_4_YCoCg()] image_IPP.E_codec: deQ error YUV 112 -104 int16\n",
      "[image_IPP.py:158 compute_br()] cat /tmp/original_motion_y_diff_comp_???.png | gzip -9 > /tmp/image_IPP_motion_y.gz\n",
      "[image_IPP.py:197 compute_br()] cat /tmp/original_motion_x_diff_comp_???.png | gzip -9 > /tmp/image_IPP_motion_y.gz\n",
      "[image_IPP.py:215 I_codec()] image_IPP.I_codec: max=255 min=0 type=uint8\n",
      "[image_IPP.py:74 encode()] W_k 32 -50\n",
      "[image_IPP.py:76 encode()] COMPUTED flow 0.30398550629615784 -0.3060075640678406\n",
      "[image_IPP.py:79 encode()] USED flow 0 0\n",
      "[image_IPP.py:238 E_codec_4_YCoCg()] image_IPP.E_codec: q_step 33\n",
      "[image_IPP.py:239 E_codec_4_YCoCg()] image_IPP.E_codec: error 132 -121 int16\n",
      "[image_IPP.py:241 E_codec_4_YCoCg()] image_IPP.E_codec: max=255 min=0 type=uint8\n",
      "[image_IPP.py:253 E_codec_4_YCoCg()] image_IPP.E_codec: deQ error YUV 93 -76 int16\n",
      "[image_IPP.py:238 E_codec_4_YCoCg()] image_IPP.E_codec: q_step 33\n",
      "[image_IPP.py:239 E_codec_4_YCoCg()] image_IPP.E_codec: error 129 -121 int16\n",
      "[image_IPP.py:241 E_codec_4_YCoCg()] image_IPP.E_codec: max=255 min=0 type=uint8\n",
      "[image_IPP.py:253 E_codec_4_YCoCg()] image_IPP.E_codec: deQ error YUV 98 -85 int16\n",
      "[image_IPP.py:74 encode()] W_k 32 -51\n",
      "[image_IPP.py:76 encode()] COMPUTED flow 0.2751511037349701 -0.4026305377483368\n",
      "[image_IPP.py:79 encode()] USED flow 0 0\n",
      "[image_IPP.py:238 E_codec_4_YCoCg()] image_IPP.E_codec: q_step 33\n",
      "[image_IPP.py:239 E_codec_4_YCoCg()] image_IPP.E_codec: error 132 -118 int16\n",
      "[image_IPP.py:241 E_codec_4_YCoCg()] image_IPP.E_codec: max=255 min=0 type=uint8\n",
      "[image_IPP.py:253 E_codec_4_YCoCg()] image_IPP.E_codec: deQ error YUV 94 -60 int16\n",
      "[image_IPP.py:238 E_codec_4_YCoCg()] image_IPP.E_codec: q_step 33\n",
      "[image_IPP.py:239 E_codec_4_YCoCg()] image_IPP.E_codec: error 125 -118 int16\n",
      "[image_IPP.py:241 E_codec_4_YCoCg()] image_IPP.E_codec: max=219 min=0 type=uint8\n",
      "[image_IPP.py:253 E_codec_4_YCoCg()] image_IPP.E_codec: deQ error YUV 52 -60 int16\n",
      "[image_IPP.py:74 encode()] W_k 32 -50\n",
      "[image_IPP.py:76 encode()] COMPUTED flow 0.2449876368045807 -0.2870011329650879\n",
      "[image_IPP.py:79 encode()] USED flow 0 0\n",
      "[image_IPP.py:238 E_codec_4_YCoCg()] image_IPP.E_codec: q_step 33\n",
      "[image_IPP.py:239 E_codec_4_YCoCg()] image_IPP.E_codec: error 132 -104 int16\n",
      "[image_IPP.py:241 E_codec_4_YCoCg()] image_IPP.E_codec: max=255 min=0 type=uint8\n",
      "[image_IPP.py:253 E_codec_4_YCoCg()] image_IPP.E_codec: deQ error YUV 94 -58 int16\n",
      "[image_IPP.py:238 E_codec_4_YCoCg()] image_IPP.E_codec: q_step 33\n",
      "[image_IPP.py:239 E_codec_4_YCoCg()] image_IPP.E_codec: error 111 -74 int16\n",
      "[image_IPP.py:241 E_codec_4_YCoCg()] image_IPP.E_codec: max=230 min=0 type=uint8\n",
      "[image_IPP.py:253 E_codec_4_YCoCg()] image_IPP.E_codec: deQ error YUV 43 -52 int16\n",
      "[image_IPP.py:74 encode()] W_k 32 -50\n",
      "[image_IPP.py:76 encode()] COMPUTED flow 0.388182133436203 -0.8962959051132202\n",
      "[image_IPP.py:79 encode()] USED flow 0 0\n",
      "[image_IPP.py:238 E_codec_4_YCoCg()] image_IPP.E_codec: q_step 33\n",
      "[image_IPP.py:239 E_codec_4_YCoCg()] image_IPP.E_codec: error 131 -104 int16\n",
      "[image_IPP.py:241 E_codec_4_YCoCg()] image_IPP.E_codec: max=255 min=0 type=uint8\n",
      "[image_IPP.py:253 E_codec_4_YCoCg()] image_IPP.E_codec: deQ error YUV 94 -78 int16\n"
     ]
    },
    {
     "name": "stdout",
     "output_type": "stream",
     "text": [
      "[image_IPP.py:238 E_codec_4_YCoCg()] image_IPP.E_codec: q_step 33\n",
      "[image_IPP.py:239 E_codec_4_YCoCg()] image_IPP.E_codec: error 111 -77 int16\n",
      "[image_IPP.py:241 E_codec_4_YCoCg()] image_IPP.E_codec: max=255 min=0 type=uint8\n",
      "[image_IPP.py:253 E_codec_4_YCoCg()] image_IPP.E_codec: deQ error YUV 112 -77 int16\n",
      "[image_IPP.py:158 compute_br()] cat /tmp/original_motion_y_diff_comp_???.png | gzip -9 > /tmp/image_IPP_motion_y.gz\n",
      "[image_IPP.py:197 compute_br()] cat /tmp/original_motion_x_diff_comp_???.png | gzip -9 > /tmp/image_IPP_motion_y.gz\n",
      "[image_IPP.py:215 I_codec()] image_IPP.I_codec: max=255 min=0 type=uint8\n",
      "[image_IPP.py:74 encode()] W_k 32 -50\n",
      "[image_IPP.py:76 encode()] COMPUTED flow 0.30398550629615784 -0.3060075640678406\n",
      "[image_IPP.py:79 encode()] USED flow 0 0\n",
      "[image_IPP.py:238 E_codec_4_YCoCg()] image_IPP.E_codec: q_step 36\n",
      "[image_IPP.py:239 E_codec_4_YCoCg()] image_IPP.E_codec: error 132 -113 int16\n",
      "[image_IPP.py:241 E_codec_4_YCoCg()] image_IPP.E_codec: max=255 min=0 type=uint8\n",
      "[image_IPP.py:253 E_codec_4_YCoCg()] image_IPP.E_codec: deQ error YUV 88 -81 int16\n",
      "[image_IPP.py:238 E_codec_4_YCoCg()] image_IPP.E_codec: q_step 36\n",
      "[image_IPP.py:239 E_codec_4_YCoCg()] image_IPP.E_codec: error 132 -113 int16\n",
      "[image_IPP.py:241 E_codec_4_YCoCg()] image_IPP.E_codec: max=255 min=0 type=uint8\n",
      "[image_IPP.py:253 E_codec_4_YCoCg()] image_IPP.E_codec: deQ error YUV 91 -81 int16\n",
      "[image_IPP.py:74 encode()] W_k 32 -51\n",
      "[image_IPP.py:76 encode()] COMPUTED flow 0.2751511037349701 -0.4026305377483368\n",
      "[image_IPP.py:79 encode()] USED flow 0 0\n",
      "[image_IPP.py:238 E_codec_4_YCoCg()] image_IPP.E_codec: q_step 36\n",
      "[image_IPP.py:239 E_codec_4_YCoCg()] image_IPP.E_codec: error 121 -110 int16\n",
      "[image_IPP.py:241 E_codec_4_YCoCg()] image_IPP.E_codec: max=249 min=0 type=uint8\n",
      "[image_IPP.py:253 E_codec_4_YCoCg()] image_IPP.E_codec: deQ error YUV 61 -59 int16\n",
      "[image_IPP.py:238 E_codec_4_YCoCg()] image_IPP.E_codec: q_step 36\n",
      "[image_IPP.py:239 E_codec_4_YCoCg()] image_IPP.E_codec: error 117 -110 int16\n",
      "[image_IPP.py:241 E_codec_4_YCoCg()] image_IPP.E_codec: max=249 min=0 type=uint8\n",
      "[image_IPP.py:253 E_codec_4_YCoCg()] image_IPP.E_codec: deQ error YUV 65 -65 int16\n",
      "[image_IPP.py:74 encode()] W_k 32 -50\n",
      "[image_IPP.py:76 encode()] COMPUTED flow 0.2449876368045807 -0.2870011329650879\n",
      "[image_IPP.py:79 encode()] USED flow 0 0\n",
      "[image_IPP.py:238 E_codec_4_YCoCg()] image_IPP.E_codec: q_step 36\n",
      "[image_IPP.py:239 E_codec_4_YCoCg()] image_IPP.E_codec: error 120 -111 int16\n",
      "[image_IPP.py:241 E_codec_4_YCoCg()] image_IPP.E_codec: max=240 min=0 type=uint8\n",
      "[image_IPP.py:253 E_codec_4_YCoCg()] image_IPP.E_codec: deQ error YUV 65 -65 int16\n",
      "[image_IPP.py:238 E_codec_4_YCoCg()] image_IPP.E_codec: q_step 36\n",
      "[image_IPP.py:239 E_codec_4_YCoCg()] image_IPP.E_codec: error 118 -111 int16\n",
      "[image_IPP.py:241 E_codec_4_YCoCg()] image_IPP.E_codec: max=240 min=0 type=uint8\n",
      "[image_IPP.py:253 E_codec_4_YCoCg()] image_IPP.E_codec: deQ error YUV 61 -56 int16\n",
      "[image_IPP.py:74 encode()] W_k 32 -50\n",
      "[image_IPP.py:76 encode()] COMPUTED flow 0.388182133436203 -0.8962959051132202\n",
      "[image_IPP.py:79 encode()] USED flow 0 0\n",
      "[image_IPP.py:238 E_codec_4_YCoCg()] image_IPP.E_codec: q_step 36\n",
      "[image_IPP.py:239 E_codec_4_YCoCg()] image_IPP.E_codec: error 122 -106 int16\n",
      "[image_IPP.py:241 E_codec_4_YCoCg()] image_IPP.E_codec: max=251 min=0 type=uint8\n",
      "[image_IPP.py:253 E_codec_4_YCoCg()] image_IPP.E_codec: deQ error YUV 74 -104 int16\n",
      "[image_IPP.py:238 E_codec_4_YCoCg()] image_IPP.E_codec: q_step 36\n",
      "[image_IPP.py:239 E_codec_4_YCoCg()] image_IPP.E_codec: error 122 -106 int16\n",
      "[image_IPP.py:241 E_codec_4_YCoCg()] image_IPP.E_codec: max=251 min=0 type=uint8\n",
      "[image_IPP.py:253 E_codec_4_YCoCg()] image_IPP.E_codec: deQ error YUV 75 -74 int16\n",
      "[image_IPP.py:158 compute_br()] cat /tmp/original_motion_y_diff_comp_???.png | gzip -9 > /tmp/image_IPP_motion_y.gz\n",
      "[image_IPP.py:197 compute_br()] cat /tmp/original_motion_x_diff_comp_???.png | gzip -9 > /tmp/image_IPP_motion_y.gz\n",
      "[image_IPP.py:215 I_codec()] image_IPP.I_codec: max=255 min=0 type=uint8\n",
      "[image_IPP.py:74 encode()] W_k 32 -50\n",
      "[image_IPP.py:76 encode()] COMPUTED flow 0.30398550629615784 -0.3060075640678406\n",
      "[image_IPP.py:79 encode()] USED flow 0 0\n",
      "[image_IPP.py:238 E_codec_4_YCoCg()] image_IPP.E_codec: q_step 39\n",
      "[image_IPP.py:239 E_codec_4_YCoCg()] image_IPP.E_codec: error 159 -124 int16\n",
      "[image_IPP.py:241 E_codec_4_YCoCg()] image_IPP.E_codec: max=255 min=0 type=uint8\n",
      "[image_IPP.py:253 E_codec_4_YCoCg()] image_IPP.E_codec: deQ error YUV 78 -74 int16\n",
      "[image_IPP.py:238 E_codec_4_YCoCg()] image_IPP.E_codec: q_step 39\n",
      "[image_IPP.py:239 E_codec_4_YCoCg()] image_IPP.E_codec: error 159 -146 int16\n",
      "[image_IPP.py:241 E_codec_4_YCoCg()] image_IPP.E_codec: max=255 min=0 type=uint8\n",
      "[image_IPP.py:253 E_codec_4_YCoCg()] image_IPP.E_codec: deQ error YUV 75 -109 int16\n",
      "[image_IPP.py:74 encode()] W_k 32 -51\n",
      "[image_IPP.py:76 encode()] COMPUTED flow 0.2751511037349701 -0.4026305377483368\n",
      "[image_IPP.py:79 encode()] USED flow 0 0\n",
      "[image_IPP.py:238 E_codec_4_YCoCg()] image_IPP.E_codec: q_step 39\n",
      "[image_IPP.py:239 E_codec_4_YCoCg()] image_IPP.E_codec: error 162 -126 int16\n",
      "[image_IPP.py:241 E_codec_4_YCoCg()] image_IPP.E_codec: max=255 min=0 type=uint8\n",
      "[image_IPP.py:253 E_codec_4_YCoCg()] image_IPP.E_codec: deQ error YUV 65 -73 int16\n",
      "[image_IPP.py:238 E_codec_4_YCoCg()] image_IPP.E_codec: q_step 39\n",
      "[image_IPP.py:239 E_codec_4_YCoCg()] image_IPP.E_codec: error 162 -126 int16\n",
      "[image_IPP.py:241 E_codec_4_YCoCg()] image_IPP.E_codec: max=255 min=0 type=uint8\n",
      "[image_IPP.py:253 E_codec_4_YCoCg()] image_IPP.E_codec: deQ error YUV 65 -57 int16\n",
      "[image_IPP.py:74 encode()] W_k 32 -50\n",
      "[image_IPP.py:76 encode()] COMPUTED flow 0.2449876368045807 -0.2870011329650879\n",
      "[image_IPP.py:79 encode()] USED flow 0 0\n",
      "[image_IPP.py:238 E_codec_4_YCoCg()] image_IPP.E_codec: q_step 39\n",
      "[image_IPP.py:239 E_codec_4_YCoCg()] image_IPP.E_codec: error 164 -120 int16\n",
      "[image_IPP.py:241 E_codec_4_YCoCg()] image_IPP.E_codec: max=255 min=0 type=uint8\n",
      "[image_IPP.py:253 E_codec_4_YCoCg()] image_IPP.E_codec: deQ error YUV 60 -64 int16\n",
      "[image_IPP.py:238 E_codec_4_YCoCg()] image_IPP.E_codec: q_step 39\n",
      "[image_IPP.py:239 E_codec_4_YCoCg()] image_IPP.E_codec: error 164 -120 int16\n",
      "[image_IPP.py:241 E_codec_4_YCoCg()] image_IPP.E_codec: max=255 min=0 type=uint8\n",
      "[image_IPP.py:253 E_codec_4_YCoCg()] image_IPP.E_codec: deQ error YUV 65 -55 int16\n",
      "[image_IPP.py:74 encode()] W_k 32 -50\n",
      "[image_IPP.py:76 encode()] COMPUTED flow 0.388182133436203 -0.8962959051132202\n",
      "[image_IPP.py:79 encode()] USED flow 0 0\n",
      "[image_IPP.py:238 E_codec_4_YCoCg()] image_IPP.E_codec: q_step 39\n",
      "[image_IPP.py:239 E_codec_4_YCoCg()] image_IPP.E_codec: error 168 -115 int16\n",
      "[image_IPP.py:241 E_codec_4_YCoCg()] image_IPP.E_codec: max=255 min=0 type=uint8\n",
      "[image_IPP.py:253 E_codec_4_YCoCg()] image_IPP.E_codec: deQ error YUV 59 -56 int16\n",
      "[image_IPP.py:238 E_codec_4_YCoCg()] image_IPP.E_codec: q_step 39\n",
      "[image_IPP.py:239 E_codec_4_YCoCg()] image_IPP.E_codec: error 168 -146 int16\n",
      "[image_IPP.py:241 E_codec_4_YCoCg()] image_IPP.E_codec: max=255 min=0 type=uint8\n",
      "[image_IPP.py:253 E_codec_4_YCoCg()] image_IPP.E_codec: deQ error YUV 72 -115 int16\n",
      "[image_IPP.py:158 compute_br()] cat /tmp/original_motion_y_diff_comp_???.png | gzip -9 > /tmp/image_IPP_motion_y.gz\n",
      "[image_IPP.py:197 compute_br()] cat /tmp/original_motion_x_diff_comp_???.png | gzip -9 > /tmp/image_IPP_motion_y.gz\n",
      "     1\tQ_step: 21 BPP: 0.06235795454545455 KBPS: 568.9440000000001 Average AMSE: 70.88796164772728\n",
      "     2\tQ_step: 24 BPP: 0.05644465488215488 KBPS: 514.9920000000001 Average AMSE: 72.44996054292929\n",
      "     3\tQ_step: 27 BPP: 0.05376157407407407 KBPS: 490.512 Average AMSE: 76.19566432554714\n",
      "     4\tQ_step: 30 BPP: 0.051878156565656565 KBPS: 473.328 Average AMSE: 78.58898884680134\n",
      "     5\tQ_step: 33 BPP: 0.04849010942760943 KBPS: 442.416 Average AMSE: 93.48289009890573\n",
      "     6\tQ_step: 36 BPP: 0.04542824074074074 KBPS: 414.48 Average AMSE: 117.91103482744106\n",
      "     7\tQ_step: 39 BPP: 0.04458122895622896 KBPS: 406.752 Average AMSE: 168.93492674137207\n"
     ]
    }
   ],
   "source": [
    "# You can see in real-time the output by running \"tail -f /tmp/output\"\n",
    "!python RD_curve.py --first_frame=0 --N_frames=$N_frames 1> >(tee /tmp/output_image_IPP_adaptive >&1) | grep BPP | grep Average | cat -n"
   ]
  },
  {
   "cell_type": "code",
   "execution_count": 46,
   "metadata": {},
   "outputs": [],
   "source": [
    "!grep BPP /tmp/output_image_IPP_adaptive | grep Average | cut -d ' ' -f 4,9 | tr ' ' '\\t'  > /tmp/image_IPP_adaptive.txt"
   ]
  },
  {
   "cell_type": "code",
   "execution_count": 47,
   "metadata": {},
   "outputs": [
    {
     "name": "stdout",
     "output_type": "stream",
     "text": [
      "0.06235795454545455\t70.88796164772728\r\n",
      "0.05644465488215488\t72.44996054292929\r\n",
      "0.05376157407407407\t76.19566432554714\r\n",
      "0.051878156565656565\t78.58898884680134\r\n",
      "0.04849010942760943\t93.48289009890573\r\n",
      "0.04542824074074074\t117.91103482744106\r\n",
      "0.04458122895622896\t168.93492674137207\r\n"
     ]
    }
   ],
   "source": [
    "!cat /tmp/image_IPP_adaptive.txt"
   ]
  },
  {
   "cell_type": "code",
   "execution_count": 48,
   "metadata": {},
   "outputs": [],
   "source": [
    "RD_image_IPP_adaptive = []\n",
    "with open(\"/tmp/image_IPP_adaptive.txt\", 'r') as f:\n",
    "    for line in f:\n",
    "        rate, _distortion = line.split('\\t')\n",
    "        RD_image_IPP_adaptive.append((float(rate), float(_distortion)))"
   ]
  },
  {
   "cell_type": "markdown",
   "metadata": {},
   "source": [
    "## Testing MP4"
   ]
  },
  {
   "cell_type": "markdown",
   "metadata": {},
   "source": [
    "### Select `MP4` in `RD_curve.py`"
   ]
  },
  {
   "cell_type": "code",
   "execution_count": 49,
   "metadata": {},
   "outputs": [],
   "source": [
    "!sed -z -i 's/\\nimport image_IPP as codec/\\n#import image_IPP as codec/g' RD_curve.py\n",
    "!sed -z -i 's/\\nimport image_IPP_adaptive as codec\\n/\\n#import image_IPP_adaptive as codec\\n/g' RD_curve.py\n",
    "!sed -z -i 's/\\n#import MP4 as codec\\n/\\nimport MP4 as codec\\n/g' RD_curve.py\n",
    "!sed -z -i 's/\\nimport IPP_compressor as codec\\n/\\n#import IPP_compressor as codec\\n/g' RD_curve.py\n",
    "!sed -z -i 's/\\nimage_IPP_quantized_prediction as codec\\n/\\n#import image_IPP_quantized_prediction as codec\\n/g' RD_curve.py\n",
    "!sed -z -i 's/\\nimport image_IPP_quantized_residue as codec\\n/\\n#import image_IPP_quantized_residue as codec\\n/g' RD_curve.py"
   ]
  },
  {
   "cell_type": "code",
   "execution_count": 50,
   "metadata": {
    "scrolled": true
   },
   "outputs": [
    {
     "name": "stdout",
     "output_type": "stream",
     "text": [
      "#import debug\r\n",
      "import config\r\n",
      "import distortion\r\n",
      "import image_3 as frame\r\n",
      "#import image_interpolated_IPP as codec\r\n",
      "#import image_IPP as codec\r\n",
      "#import image_IPP_adaptive as codec\r\n",
      "#import image_IPP_quantized_prediction as codec\r\n",
      "#import image_IPP_quantized_residue as codec\r\n",
      "import MP4 as codec\r\n",
      "#import IPP_compressor as codec\r\n",
      "import logging\r\n",
      "import argparse\r\n"
     ]
    }
   ],
   "source": [
    "!grep import RD_curve.py"
   ]
  },
  {
   "cell_type": "code",
   "execution_count": 51,
   "metadata": {},
   "outputs": [],
   "source": [
    "!sed -z -i 's/\\ntransform = \"DWT\"\\n/\\n#transform = \"DWT\"\\n/g' config.py\n",
    "!sed -z -i 's/\\ntransform = \"LP\"\\n/\\n#transform = \"LP\"\\n/g' config.py\n",
    "!sed -z -i 's/\\n#transform = None\\n/\\ntransform = None\\n/g' config.py"
   ]
  },
  {
   "cell_type": "code",
   "execution_count": 52,
   "metadata": {},
   "outputs": [
    {
     "name": "stdout",
     "output_type": "stream",
     "text": [
      "     3\t#multiresolution_transform = \"DWT\"\r\n",
      "     4\t#multiresolution_transform = \"LP\"\r\n",
      "     5\tmultiresolution_transform = None\r\n"
     ]
    }
   ],
   "source": [
    "!cat -n config.py | grep \"transform\" "
   ]
  },
  {
   "cell_type": "code",
   "execution_count": 53,
   "metadata": {},
   "outputs": [],
   "source": [
    "!sed -z -i 's/\\ncolor = \"YCoCg\\n/\\n#color = \"YCoCg\\n/g' config.py\n",
    "!sed -z -i 's/\\ncolor = \"YCoCg\\n/\\n#color = \"YCoCg\\n/g' config.py\n",
    "!sed -z -i 's/\\n#color = \"YCoCg\\n/\\ncolor = \"YCoCg\\n/g' config.py"
   ]
  },
  {
   "cell_type": "code",
   "execution_count": 54,
   "metadata": {},
   "outputs": [
    {
     "name": "stdout",
     "output_type": "stream",
     "text": [
      "    10\tcolor = \"YCoCg\"\r\n",
      "    11\t#color = \"YCrCb\"\r\n",
      "    12\t#color = \"RGB\"\r\n"
     ]
    }
   ],
   "source": [
    "!cat -n config.py | grep \"color\" "
   ]
  },
  {
   "cell_type": "code",
   "execution_count": 55,
   "metadata": {},
   "outputs": [
    {
     "name": "stdout",
     "output_type": "stream",
     "text": [
      "akiyo_cif.y4m exists.\n",
      "ffmpeg version 3.4.8-0ubuntu0.2 Copyright (c) 2000-2020 the FFmpeg developers\n",
      "  built with gcc 7 (Ubuntu 7.5.0-3ubuntu1~18.04)\n",
      "  configuration: --prefix=/usr --extra-version=0ubuntu0.2 --toolchain=hardened --libdir=/usr/lib/x86_64-linux-gnu --incdir=/usr/include/x86_64-linux-gnu --enable-gpl --disable-stripping --enable-avresample --enable-avisynth --enable-gnutls --enable-ladspa --enable-libass --enable-libbluray --enable-libbs2b --enable-libcaca --enable-libcdio --enable-libflite --enable-libfontconfig --enable-libfreetype --enable-libfribidi --enable-libgme --enable-libgsm --enable-libmp3lame --enable-libmysofa --enable-libopenjpeg --enable-libopenmpt --enable-libopus --enable-libpulse --enable-librubberband --enable-librsvg --enable-libshine --enable-libsnappy --enable-libsoxr --enable-libspeex --enable-libssh --enable-libtheora --enable-libtwolame --enable-libvorbis --enable-libvpx --enable-libwavpack --enable-libwebp --enable-libx265 --enable-libxml2 --enable-libxvid --enable-libzmq --enable-libzvbi --enable-omx --enable-openal --enable-opengl --enable-sdl2 --enable-libdc1394 --enable-libdrm --enable-libiec61883 --enable-chromaprint --enable-frei0r --enable-libopencv --enable-libx264 --enable-shared\n",
      "  libavutil      55. 78.100 / 55. 78.100\n",
      "  libavcodec     57.107.100 / 57.107.100\n",
      "  libavformat    57. 83.100 / 57. 83.100\n",
      "  libavdevice    57. 10.100 / 57. 10.100\n",
      "  libavfilter     6.107.100 /  6.107.100\n",
      "  libavresample   3.  7.  0 /  3.  7.  0\n",
      "  libswscale      4.  8.100 /  4.  8.100\n",
      "  libswresample   2.  9.100 /  2.  9.100\n",
      "  libpostproc    54.  7.100 / 54.  7.100\n",
      "Input #0, yuv4mpegpipe, from 'akiyo_cif.y4m':\n",
      "  Duration: 00:00:10.01, start: 0.000000, bitrate: 36460 kb/s\n",
      "    Stream #0:0: Video: rawvideo (I420 / 0x30323449), yuv420p(progressive), 352x288, SAR 128:117 DAR 1408:1053, 29.97 fps, 29.97 tbr, 29.97 tbn, 29.97 tbc\n",
      "Stream mapping:\n",
      "  Stream #0:0 -> #0:0 (rawvideo (native) -> png (native))\n",
      "Press [q] to stop, [?] for help\n",
      "Output #0, image2, to '/tmp/original_%03d.png':\n",
      "  Metadata:\n",
      "    encoder         : Lavf57.83.100\n",
      "    Stream #0:0: Video: png, rgb24, 352x288 [SAR 128:117 DAR 1408:1053], q=2-31, 200 kb/s, 29.97 fps, 29.97 tbn, 29.97 tbc\n",
      "    Metadata:\n",
      "      encoder         : Lavc57.107.100 png\n",
      "frame=  300 fps= 64 q=-0.0 Lsize=N/A time=00:00:10.01 bitrate=N/A speed=2.13x    \n",
      "video:52297kB audio:0kB subtitle:0kB other streams:0kB global headers:0kB muxing overhead: unknown\n"
     ]
    }
   ],
   "source": [
    "!rm /tmp/*.png\n",
    "!../sequences/$sequence/runme.sh"
   ]
  },
  {
   "cell_type": "code",
   "execution_count": 56,
   "metadata": {},
   "outputs": [
    {
     "name": "stdout",
     "output_type": "stream",
     "text": [
      "ffmpeg version 3.4.8-0ubuntu0.2 Copyright (c) 2000-2020 the FFmpeg developers\n",
      "  built with gcc 7 (Ubuntu 7.5.0-3ubuntu1~18.04)\n",
      "  configuration: --prefix=/usr --extra-version=0ubuntu0.2 --toolchain=hardened --libdir=/usr/lib/x86_64-linux-gnu --incdir=/usr/include/x86_64-linux-gnu --enable-gpl --disable-stripping --enable-avresample --enable-avisynth --enable-gnutls --enable-ladspa --enable-libass --enable-libbluray --enable-libbs2b --enable-libcaca --enable-libcdio --enable-libflite --enable-libfontconfig --enable-libfreetype --enable-libfribidi --enable-libgme --enable-libgsm --enable-libmp3lame --enable-libmysofa --enable-libopenjpeg --enable-libopenmpt --enable-libopus --enable-libpulse --enable-librubberband --enable-librsvg --enable-libshine --enable-libsnappy --enable-libsoxr --enable-libspeex --enable-libssh --enable-libtheora --enable-libtwolame --enable-libvorbis --enable-libvpx --enable-libwavpack --enable-libwebp --enable-libx265 --enable-libxml2 --enable-libxvid --enable-libzmq --enable-libzvbi --enable-omx --enable-openal --enable-opengl --enable-sdl2 --enable-libdc1394 --enable-libdrm --enable-libiec61883 --enable-chromaprint --enable-frei0r --enable-libopencv --enable-libx264 --enable-shared\n",
      "  libavutil      55. 78.100 / 55. 78.100\n",
      "  libavcodec     57.107.100 / 57.107.100\n",
      "  libavformat    57. 83.100 / 57. 83.100\n",
      "  libavdevice    57. 10.100 / 57. 10.100\n",
      "  libavfilter     6.107.100 /  6.107.100\n",
      "  libavresample   3.  7.  0 /  3.  7.  0\n",
      "  libswscale      4.  8.100 /  4.  8.100\n",
      "  libswresample   2.  9.100 /  2.  9.100\n",
      "  libpostproc    54.  7.100 / 54.  7.100\n",
      "Input #0, image2, from '/tmp/original_%03d.png':\n",
      "  Duration: 00:00:12.00, start: 0.000000, bitrate: N/A\n",
      "    Stream #0:0: Video: png, rgb24(pc), 352x288 [SAR 128:117 DAR 1408:1053], 25 fps, 25 tbr, 25 tbn, 25 tbc\n",
      "Stream mapping:\n",
      "  Stream #0:0 -> #0:0 (png (native) -> h264 (libx264))\n",
      "Press [q] to stop, [?] for help\n",
      "\u001b[1;36m[libx264 @ 0x5560de7358c0] \u001b[0musing SAR=128/117\n",
      "\u001b[1;36m[libx264 @ 0x5560de7358c0] \u001b[0musing cpu capabilities: MMX2 SSE2Fast SSSE3 SSE4.2\n",
      "\u001b[1;36m[libx264 @ 0x5560de7358c0] \u001b[0mprofile High 4:4:4 Predictive, level 1.3, 4:4:4 8-bit\n",
      "\u001b[1;36m[libx264 @ 0x5560de7358c0] \u001b[0m264 - core 152 r2854 e9a5903 - H.264/MPEG-4 AVC codec - Copyleft 2003-2017 - http://www.videolan.org/x264.html - options: cabac=1 ref=3 deblock=1:0:0 analyse=0x1:0x111 me=hex subme=7 psy=1 psy_rd=1.00:0.00 mixed_ref=1 me_range=16 chroma_me=1 trellis=1 8x8dct=0 cqm=0 deadzone=21,11 fast_pskip=1 chroma_qp_offset=4 threads=1 lookahead_threads=1 sliced_threads=0 nr=0 decimate=1 interlaced=0 bluray_compat=0 constrained_intra=0 bframes=0 weightp=2 keyint=5 keyint_min=1 scenecut=40 intra_refresh=0 rc_lookahead=5 rc=crf mbtree=1 crf=21.0 qcomp=0.60 qpmin=0 qpmax=69 qpstep=4 ip_ratio=1.40 aq=1:1.00\n",
      "Output #0, mp4, to '/tmp/output.mp4':\n",
      "  Metadata:\n",
      "    encoder         : Lavf57.83.100\n",
      "    Stream #0:0: Video: h264 (libx264) (avc1 / 0x31637661), yuv444p, 352x288 [SAR 128:117 DAR 1408:1053], q=-1--1, 25 fps, 12800 tbn, 25 tbc\n",
      "    Metadata:\n",
      "      encoder         : Lavc57.107.100 libx264\n",
      "    Side data:\n",
      "      cpb: bitrate max/min/avg: 0/0/0 buffer size: 0 vbv_delay: -1\n",
      "frame=    5 fps=0.0 q=26.0 Lsize=      10kB time=00:00:00.16 bitrate= 510.9kbits/s speed=2.62x    \n",
      "video:9kB audio:0kB subtitle:0kB other streams:0kB global headers:0kB muxing overhead: 9.174410%\n",
      "\u001b[1;36m[libx264 @ 0x5560de7358c0] \u001b[0mframe I:1     Avg QP:22.35  size:  8314\n",
      "\u001b[1;36m[libx264 @ 0x5560de7358c0] \u001b[0mframe P:4     Avg QP:26.24  size:   106\n",
      "\u001b[1;36m[libx264 @ 0x5560de7358c0] \u001b[0mmb I  I16..4: 26.3%  0.0% 73.7%\n",
      "\u001b[1;36m[libx264 @ 0x5560de7358c0] \u001b[0mmb P  I16..4:  0.0%  0.0%  0.0%  P16..4:  6.1%  1.6%  1.4%  0.0%  0.0%    skip:90.9%\n",
      "\u001b[1;36m[libx264 @ 0x5560de7358c0] \u001b[0mcoded y,u,v intra: 72.0% 29.7% 24.2% inter: 0.4% 0.0% 0.0%\n",
      "\u001b[1;36m[libx264 @ 0x5560de7358c0] \u001b[0mi16 v,h,dc,p: 37% 32% 14% 17%\n",
      "\u001b[1;36m[libx264 @ 0x5560de7358c0] \u001b[0mi4 v,h,dc,ddl,ddr,vr,hd,vl,hu: 32% 20% 13%  5%  5%  8%  5%  7%  4%\n",
      "\u001b[1;36m[libx264 @ 0x5560de7358c0] \u001b[0mWeighted P-Frames: Y:0.0% UV:0.0%\n",
      "\u001b[1;36m[libx264 @ 0x5560de7358c0] \u001b[0mref P L0: 86.8%  6.6%  5.9%  0.7%\n",
      "\u001b[1;36m[libx264 @ 0x5560de7358c0] \u001b[0mkb/s:349.60\n",
      "ffmpeg version 3.4.8-0ubuntu0.2 Copyright (c) 2000-2020 the FFmpeg developers\n",
      "  built with gcc 7 (Ubuntu 7.5.0-3ubuntu1~18.04)\n",
      "  configuration: --prefix=/usr --extra-version=0ubuntu0.2 --toolchain=hardened --libdir=/usr/lib/x86_64-linux-gnu --incdir=/usr/include/x86_64-linux-gnu --enable-gpl --disable-stripping --enable-avresample --enable-avisynth --enable-gnutls --enable-ladspa --enable-libass --enable-libbluray --enable-libbs2b --enable-libcaca --enable-libcdio --enable-libflite --enable-libfontconfig --enable-libfreetype --enable-libfribidi --enable-libgme --enable-libgsm --enable-libmp3lame --enable-libmysofa --enable-libopenjpeg --enable-libopenmpt --enable-libopus --enable-libpulse --enable-librubberband --enable-librsvg --enable-libshine --enable-libsnappy --enable-libsoxr --enable-libspeex --enable-libssh --enable-libtheora --enable-libtwolame --enable-libvorbis --enable-libvpx --enable-libwavpack --enable-libwebp --enable-libx265 --enable-libxml2 --enable-libxvid --enable-libzmq --enable-libzvbi --enable-omx --enable-openal --enable-opengl --enable-sdl2 --enable-libdc1394 --enable-libdrm --enable-libiec61883 --enable-chromaprint --enable-frei0r --enable-libopencv --enable-libx264 --enable-shared\n",
      "  libavutil      55. 78.100 / 55. 78.100\n",
      "  libavcodec     57.107.100 / 57.107.100\n",
      "  libavformat    57. 83.100 / 57. 83.100\n",
      "  libavdevice    57. 10.100 / 57. 10.100\n",
      "  libavfilter     6.107.100 /  6.107.100\n",
      "  libavresample   3.  7.  0 /  3.  7.  0\n",
      "  libswscale      4.  8.100 /  4.  8.100\n",
      "  libswresample   2.  9.100 /  2.  9.100\n",
      "  libpostproc    54.  7.100 / 54.  7.100\n",
      "Input #0, mov,mp4,m4a,3gp,3g2,mj2, from '/tmp/output.mp4':\n",
      "  Metadata:\n",
      "    major_brand     : isom\n",
      "    minor_version   : 512\n",
      "    compatible_brands: isomiso2avc1mp41\n",
      "    encoder         : Lavf57.83.100\n",
      "  Duration: 00:00:00.20, start: 0.000000, bitrate: 408 kb/s\n",
      "    Stream #0:0(und): Video: h264 (High 4:4:4 Predictive) (avc1 / 0x31637661), yuv444p, 352x288 [SAR 128:117 DAR 1408:1053], 374 kb/s, 25 fps, 25 tbr, 12800 tbn, 50 tbc (default)\n",
      "    Metadata:\n",
      "      handler_name    : VideoHandler\n",
      "Stream mapping:\n",
      "  Stream #0:0 -> #0:0 (h264 (native) -> png (native))\n",
      "Press [q] to stop, [?] for help\n",
      "Output #0, image2, to '/tmp/original_reconstructed_%03d.png':\n",
      "  Metadata:\n",
      "    major_brand     : isom\n",
      "    minor_version   : 512\n",
      "    compatible_brands: isomiso2avc1mp41\n",
      "    encoder         : Lavf57.83.100\n",
      "    Stream #0:0(und): Video: png, rgb24, 352x288 [SAR 128:117 DAR 1408:1053], q=2-31, 200 kb/s, 25 fps, 25 tbn, 25 tbc (default)\n",
      "    Metadata:\n",
      "      handler_name    : VideoHandler\n",
      "      encoder         : Lavc57.107.100 png\n",
      "frame=    5 fps=0.0 q=-0.0 Lsize=N/A time=00:00:00.20 bitrate=N/A speed=1.79x    \n",
      "video:590kB audio:0kB subtitle:0kB other streams:0kB global headers:0kB muxing overhead: unknown\n",
      "ffmpeg version 3.4.8-0ubuntu0.2 Copyright (c) 2000-2020 the FFmpeg developers\n",
      "  built with gcc 7 (Ubuntu 7.5.0-3ubuntu1~18.04)\n",
      "  configuration: --prefix=/usr --extra-version=0ubuntu0.2 --toolchain=hardened --libdir=/usr/lib/x86_64-linux-gnu --incdir=/usr/include/x86_64-linux-gnu --enable-gpl --disable-stripping --enable-avresample --enable-avisynth --enable-gnutls --enable-ladspa --enable-libass --enable-libbluray --enable-libbs2b --enable-libcaca --enable-libcdio --enable-libflite --enable-libfontconfig --enable-libfreetype --enable-libfribidi --enable-libgme --enable-libgsm --enable-libmp3lame --enable-libmysofa --enable-libopenjpeg --enable-libopenmpt --enable-libopus --enable-libpulse --enable-librubberband --enable-librsvg --enable-libshine --enable-libsnappy --enable-libsoxr --enable-libspeex --enable-libssh --enable-libtheora --enable-libtwolame --enable-libvorbis --enable-libvpx --enable-libwavpack --enable-libwebp --enable-libx265 --enable-libxml2 --enable-libxvid --enable-libzmq --enable-libzvbi --enable-omx --enable-openal --enable-opengl --enable-sdl2 --enable-libdc1394 --enable-libdrm --enable-libiec61883 --enable-chromaprint --enable-frei0r --enable-libopencv --enable-libx264 --enable-shared\n",
      "  libavutil      55. 78.100 / 55. 78.100\n",
      "  libavcodec     57.107.100 / 57.107.100\n",
      "  libavformat    57. 83.100 / 57. 83.100\n",
      "  libavdevice    57. 10.100 / 57. 10.100\n",
      "  libavfilter     6.107.100 /  6.107.100\n",
      "  libavresample   3.  7.  0 /  3.  7.  0\n",
      "  libswscale      4.  8.100 /  4.  8.100\n",
      "  libswresample   2.  9.100 /  2.  9.100\n",
      "  libpostproc    54.  7.100 / 54.  7.100\n",
      "Input #0, image2, from '/tmp/original_%03d.png':\n",
      "  Duration: 00:00:12.00, start: 0.000000, bitrate: N/A\n",
      "    Stream #0:0: Video: png, rgb24(pc), 352x288 [SAR 128:117 DAR 1408:1053], 25 fps, 25 tbr, 25 tbn, 25 tbc\n",
      "Stream mapping:\n",
      "  Stream #0:0 -> #0:0 (png (native) -> h264 (libx264))\n",
      "Press [q] to stop, [?] for help\n",
      "\u001b[1;36m[libx264 @ 0x5558801008c0] \u001b[0musing SAR=128/117\n",
      "\u001b[1;36m[libx264 @ 0x5558801008c0] \u001b[0musing cpu capabilities: MMX2 SSE2Fast SSSE3 SSE4.2\n",
      "\u001b[1;36m[libx264 @ 0x5558801008c0] \u001b[0mprofile High 4:4:4 Predictive, level 1.3, 4:4:4 8-bit\n",
      "\u001b[1;36m[libx264 @ 0x5558801008c0] \u001b[0m264 - core 152 r2854 e9a5903 - H.264/MPEG-4 AVC codec - Copyleft 2003-2017 - http://www.videolan.org/x264.html - options: cabac=1 ref=3 deblock=1:0:0 analyse=0x1:0x111 me=hex subme=7 psy=1 psy_rd=1.00:0.00 mixed_ref=1 me_range=16 chroma_me=1 trellis=1 8x8dct=0 cqm=0 deadzone=21,11 fast_pskip=1 chroma_qp_offset=4 threads=1 lookahead_threads=1 sliced_threads=0 nr=0 decimate=1 interlaced=0 bluray_compat=0 constrained_intra=0 bframes=0 weightp=2 keyint=5 keyint_min=1 scenecut=40 intra_refresh=0 rc_lookahead=5 rc=crf mbtree=1 crf=24.0 qcomp=0.60 qpmin=0 qpmax=69 qpstep=4 ip_ratio=1.40 aq=1:1.00\n",
      "Output #0, mp4, to '/tmp/output.mp4':\n",
      "  Metadata:\n",
      "    encoder         : Lavf57.83.100\n",
      "    Stream #0:0: Video: h264 (libx264) (avc1 / 0x31637661), yuv444p, 352x288 [SAR 128:117 DAR 1408:1053], q=-1--1, 25 fps, 12800 tbn, 25 tbc\n",
      "    Metadata:\n",
      "      encoder         : Lavc57.107.100 libx264\n",
      "    Side data:\n",
      "      cpb: bitrate max/min/avg: 0/0/0 buffer size: 0 vbv_delay: -1\n"
     ]
    },
    {
     "name": "stdout",
     "output_type": "stream",
     "text": [
      "frame=    5 fps=0.0 q=29.0 Lsize=       8kB time=00:00:00.16 bitrate= 390.8kbits/s speed=1.99x    \n",
      "video:7kB audio:0kB subtitle:0kB other streams:0kB global headers:0kB muxing overhead: 12.341954%\n",
      "\u001b[1;36m[libx264 @ 0x5558801008c0] \u001b[0mframe I:1     Avg QP:25.37  size:  6078\n",
      "\u001b[1;36m[libx264 @ 0x5558801008c0] \u001b[0mframe P:4     Avg QP:28.72  size:    65\n",
      "\u001b[1;36m[libx264 @ 0x5558801008c0] \u001b[0mmb I  I16..4: 26.5%  0.0% 73.5%\n",
      "\u001b[1;36m[libx264 @ 0x5558801008c0] \u001b[0mmb P  I16..4:  0.1%  0.0%  0.0%  P16..4:  2.5%  1.0%  0.8%  0.0%  0.0%    skip:95.7%\n",
      "\u001b[1;36m[libx264 @ 0x5558801008c0] \u001b[0mcoded y,u,v intra: 58.2% 22.3% 18.0% inter: 0.1% 0.0% 0.0%\n",
      "\u001b[1;36m[libx264 @ 0x5558801008c0] \u001b[0mi16 v,h,dc,p: 38% 30% 16% 16%\n",
      "\u001b[1;36m[libx264 @ 0x5558801008c0] \u001b[0mi4 v,h,dc,ddl,ddr,vr,hd,vl,hu: 37% 18% 14%  5%  5%  7%  4%  6%  4%\n",
      "\u001b[1;36m[libx264 @ 0x5558801008c0] \u001b[0mWeighted P-Frames: Y:0.0% UV:0.0%\n",
      "\u001b[1;36m[libx264 @ 0x5558801008c0] \u001b[0mref P L0: 85.1% 11.9%  1.5%  1.5%\n",
      "\u001b[1;36m[libx264 @ 0x5558801008c0] \u001b[0mkb/s:253.48\n",
      "ffmpeg version 3.4.8-0ubuntu0.2 Copyright (c) 2000-2020 the FFmpeg developers\n",
      "  built with gcc 7 (Ubuntu 7.5.0-3ubuntu1~18.04)\n",
      "  configuration: --prefix=/usr --extra-version=0ubuntu0.2 --toolchain=hardened --libdir=/usr/lib/x86_64-linux-gnu --incdir=/usr/include/x86_64-linux-gnu --enable-gpl --disable-stripping --enable-avresample --enable-avisynth --enable-gnutls --enable-ladspa --enable-libass --enable-libbluray --enable-libbs2b --enable-libcaca --enable-libcdio --enable-libflite --enable-libfontconfig --enable-libfreetype --enable-libfribidi --enable-libgme --enable-libgsm --enable-libmp3lame --enable-libmysofa --enable-libopenjpeg --enable-libopenmpt --enable-libopus --enable-libpulse --enable-librubberband --enable-librsvg --enable-libshine --enable-libsnappy --enable-libsoxr --enable-libspeex --enable-libssh --enable-libtheora --enable-libtwolame --enable-libvorbis --enable-libvpx --enable-libwavpack --enable-libwebp --enable-libx265 --enable-libxml2 --enable-libxvid --enable-libzmq --enable-libzvbi --enable-omx --enable-openal --enable-opengl --enable-sdl2 --enable-libdc1394 --enable-libdrm --enable-libiec61883 --enable-chromaprint --enable-frei0r --enable-libopencv --enable-libx264 --enable-shared\n",
      "  libavutil      55. 78.100 / 55. 78.100\n",
      "  libavcodec     57.107.100 / 57.107.100\n",
      "  libavformat    57. 83.100 / 57. 83.100\n",
      "  libavdevice    57. 10.100 / 57. 10.100\n",
      "  libavfilter     6.107.100 /  6.107.100\n",
      "  libavresample   3.  7.  0 /  3.  7.  0\n",
      "  libswscale      4.  8.100 /  4.  8.100\n",
      "  libswresample   2.  9.100 /  2.  9.100\n",
      "  libpostproc    54.  7.100 / 54.  7.100\n",
      "Input #0, mov,mp4,m4a,3gp,3g2,mj2, from '/tmp/output.mp4':\n",
      "  Metadata:\n",
      "    major_brand     : isom\n",
      "    minor_version   : 512\n",
      "    compatible_brands: isomiso2avc1mp41\n",
      "    encoder         : Lavf57.83.100\n",
      "  Duration: 00:00:00.20, start: 0.000000, bitrate: 312 kb/s\n",
      "    Stream #0:0(und): Video: h264 (High 4:4:4 Predictive) (avc1 / 0x31637661), yuv444p, 352x288 [SAR 128:117 DAR 1408:1053], 278 kb/s, 25 fps, 25 tbr, 12800 tbn, 50 tbc (default)\n",
      "    Metadata:\n",
      "      handler_name    : VideoHandler\n",
      "Stream mapping:\n",
      "  Stream #0:0 -> #0:0 (h264 (native) -> png (native))\n",
      "Press [q] to stop, [?] for help\n",
      "Output #0, image2, to '/tmp/original_reconstructed_%03d.png':\n",
      "  Metadata:\n",
      "    major_brand     : isom\n",
      "    minor_version   : 512\n",
      "    compatible_brands: isomiso2avc1mp41\n",
      "    encoder         : Lavf57.83.100\n",
      "    Stream #0:0(und): Video: png, rgb24, 352x288 [SAR 128:117 DAR 1408:1053], q=2-31, 200 kb/s, 25 fps, 25 tbn, 25 tbc (default)\n",
      "    Metadata:\n",
      "      handler_name    : VideoHandler\n",
      "      encoder         : Lavc57.107.100 png\n",
      "frame=    5 fps=0.0 q=-0.0 Lsize=N/A time=00:00:00.20 bitrate=N/A speed=2.06x    \n",
      "video:563kB audio:0kB subtitle:0kB other streams:0kB global headers:0kB muxing overhead: unknown\n",
      "ffmpeg version 3.4.8-0ubuntu0.2 Copyright (c) 2000-2020 the FFmpeg developers\n",
      "  built with gcc 7 (Ubuntu 7.5.0-3ubuntu1~18.04)\n",
      "  configuration: --prefix=/usr --extra-version=0ubuntu0.2 --toolchain=hardened --libdir=/usr/lib/x86_64-linux-gnu --incdir=/usr/include/x86_64-linux-gnu --enable-gpl --disable-stripping --enable-avresample --enable-avisynth --enable-gnutls --enable-ladspa --enable-libass --enable-libbluray --enable-libbs2b --enable-libcaca --enable-libcdio --enable-libflite --enable-libfontconfig --enable-libfreetype --enable-libfribidi --enable-libgme --enable-libgsm --enable-libmp3lame --enable-libmysofa --enable-libopenjpeg --enable-libopenmpt --enable-libopus --enable-libpulse --enable-librubberband --enable-librsvg --enable-libshine --enable-libsnappy --enable-libsoxr --enable-libspeex --enable-libssh --enable-libtheora --enable-libtwolame --enable-libvorbis --enable-libvpx --enable-libwavpack --enable-libwebp --enable-libx265 --enable-libxml2 --enable-libxvid --enable-libzmq --enable-libzvbi --enable-omx --enable-openal --enable-opengl --enable-sdl2 --enable-libdc1394 --enable-libdrm --enable-libiec61883 --enable-chromaprint --enable-frei0r --enable-libopencv --enable-libx264 --enable-shared\n",
      "  libavutil      55. 78.100 / 55. 78.100\n",
      "  libavcodec     57.107.100 / 57.107.100\n",
      "  libavformat    57. 83.100 / 57. 83.100\n",
      "  libavdevice    57. 10.100 / 57. 10.100\n",
      "  libavfilter     6.107.100 /  6.107.100\n",
      "  libavresample   3.  7.  0 /  3.  7.  0\n",
      "  libswscale      4.  8.100 /  4.  8.100\n",
      "  libswresample   2.  9.100 /  2.  9.100\n",
      "  libpostproc    54.  7.100 / 54.  7.100\n",
      "Input #0, image2, from '/tmp/original_%03d.png':\n",
      "  Duration: 00:00:12.00, start: 0.000000, bitrate: N/A\n",
      "    Stream #0:0: Video: png, rgb24(pc), 352x288 [SAR 128:117 DAR 1408:1053], 25 fps, 25 tbr, 25 tbn, 25 tbc\n",
      "Stream mapping:\n",
      "  Stream #0:0 -> #0:0 (png (native) -> h264 (libx264))\n",
      "Press [q] to stop, [?] for help\n",
      "\u001b[1;36m[libx264 @ 0x5578bc0388c0] \u001b[0musing SAR=128/117\n",
      "\u001b[1;36m[libx264 @ 0x5578bc0388c0] \u001b[0musing cpu capabilities: MMX2 SSE2Fast SSSE3 SSE4.2\n",
      "\u001b[1;36m[libx264 @ 0x5578bc0388c0] \u001b[0mprofile High 4:4:4 Predictive, level 1.3, 4:4:4 8-bit\n",
      "\u001b[1;36m[libx264 @ 0x5578bc0388c0] \u001b[0m264 - core 152 r2854 e9a5903 - H.264/MPEG-4 AVC codec - Copyleft 2003-2017 - http://www.videolan.org/x264.html - options: cabac=1 ref=3 deblock=1:0:0 analyse=0x1:0x111 me=hex subme=7 psy=1 psy_rd=1.00:0.00 mixed_ref=1 me_range=16 chroma_me=1 trellis=1 8x8dct=0 cqm=0 deadzone=21,11 fast_pskip=1 chroma_qp_offset=4 threads=1 lookahead_threads=1 sliced_threads=0 nr=0 decimate=1 interlaced=0 bluray_compat=0 constrained_intra=0 bframes=0 weightp=2 keyint=5 keyint_min=1 scenecut=40 intra_refresh=0 rc_lookahead=5 rc=crf mbtree=1 crf=27.0 qcomp=0.60 qpmin=0 qpmax=69 qpstep=4 ip_ratio=1.40 aq=1:1.00\n",
      "Output #0, mp4, to '/tmp/output.mp4':\n",
      "  Metadata:\n",
      "    encoder         : Lavf57.83.100\n",
      "    Stream #0:0: Video: h264 (libx264) (avc1 / 0x31637661), yuv444p, 352x288 [SAR 128:117 DAR 1408:1053], q=-1--1, 25 fps, 12800 tbn, 25 tbc\n",
      "    Metadata:\n",
      "      encoder         : Lavc57.107.100 libx264\n",
      "    Side data:\n",
      "      cpb: bitrate max/min/avg: 0/0/0 buffer size: 0 vbv_delay: -1\n",
      "frame=    5 fps=0.0 q=32.0 Lsize=       6kB time=00:00:00.16 bitrate= 317.7kbits/s speed=3.03x    \n",
      "video:5kB audio:0kB subtitle:0kB other streams:0kB global headers:0kB muxing overhead: 15.623863%\n",
      "\u001b[1;36m[libx264 @ 0x5578bc0388c0] \u001b[0mframe I:1     Avg QP:28.36  size:  4669\n",
      "\u001b[1;36m[libx264 @ 0x5578bc0388c0] \u001b[0mframe P:4     Avg QP:30.39  size:    52\n",
      "\u001b[1;36m[libx264 @ 0x5578bc0388c0] \u001b[0mmb I  I16..4: 35.1%  0.0% 64.9%\n",
      "\u001b[1;36m[libx264 @ 0x5578bc0388c0] \u001b[0mmb P  I16..4:  0.0%  0.0%  0.0%  P16..4:  2.9%  0.5%  0.4%  0.0%  0.0%    skip:96.1%\n",
      "\u001b[1;36m[libx264 @ 0x5578bc0388c0] \u001b[0mcoded y,u,v intra: 45.7% 17.6% 14.5% inter: 0.1% 0.0% 0.0%\n",
      "\u001b[1;36m[libx264 @ 0x5578bc0388c0] \u001b[0mi16 v,h,dc,p: 35% 38% 16% 12%\n",
      "\u001b[1;36m[libx264 @ 0x5578bc0388c0] \u001b[0mi4 v,h,dc,ddl,ddr,vr,hd,vl,hu: 36% 18% 18%  4%  4%  6%  4%  6%  3%\n",
      "\u001b[1;36m[libx264 @ 0x5578bc0388c0] \u001b[0mWeighted P-Frames: Y:0.0% UV:0.0%\n",
      "\u001b[1;36m[libx264 @ 0x5578bc0388c0] \u001b[0mref P L0: 89.3% 10.7%\n",
      "\u001b[1;36m[libx264 @ 0x5578bc0388c0] \u001b[0mkb/s:195.00\n",
      "ffmpeg version 3.4.8-0ubuntu0.2 Copyright (c) 2000-2020 the FFmpeg developers\n",
      "  built with gcc 7 (Ubuntu 7.5.0-3ubuntu1~18.04)\n",
      "  configuration: --prefix=/usr --extra-version=0ubuntu0.2 --toolchain=hardened --libdir=/usr/lib/x86_64-linux-gnu --incdir=/usr/include/x86_64-linux-gnu --enable-gpl --disable-stripping --enable-avresample --enable-avisynth --enable-gnutls --enable-ladspa --enable-libass --enable-libbluray --enable-libbs2b --enable-libcaca --enable-libcdio --enable-libflite --enable-libfontconfig --enable-libfreetype --enable-libfribidi --enable-libgme --enable-libgsm --enable-libmp3lame --enable-libmysofa --enable-libopenjpeg --enable-libopenmpt --enable-libopus --enable-libpulse --enable-librubberband --enable-librsvg --enable-libshine --enable-libsnappy --enable-libsoxr --enable-libspeex --enable-libssh --enable-libtheora --enable-libtwolame --enable-libvorbis --enable-libvpx --enable-libwavpack --enable-libwebp --enable-libx265 --enable-libxml2 --enable-libxvid --enable-libzmq --enable-libzvbi --enable-omx --enable-openal --enable-opengl --enable-sdl2 --enable-libdc1394 --enable-libdrm --enable-libiec61883 --enable-chromaprint --enable-frei0r --enable-libopencv --enable-libx264 --enable-shared\n",
      "  libavutil      55. 78.100 / 55. 78.100\n",
      "  libavcodec     57.107.100 / 57.107.100\n",
      "  libavformat    57. 83.100 / 57. 83.100\n",
      "  libavdevice    57. 10.100 / 57. 10.100\n",
      "  libavfilter     6.107.100 /  6.107.100\n",
      "  libavresample   3.  7.  0 /  3.  7.  0\n",
      "  libswscale      4.  8.100 /  4.  8.100\n",
      "  libswresample   2.  9.100 /  2.  9.100\n",
      "  libpostproc    54.  7.100 / 54.  7.100\n",
      "Input #0, mov,mp4,m4a,3gp,3g2,mj2, from '/tmp/output.mp4':\n",
      "  Metadata:\n",
      "    major_brand     : isom\n",
      "    minor_version   : 512\n",
      "    compatible_brands: isomiso2avc1mp41\n",
      "    encoder         : Lavf57.83.100\n",
      "  Duration: 00:00:00.20, start: 0.000000, bitrate: 254 kb/s\n",
      "    Stream #0:0(und): Video: h264 (High 4:4:4 Predictive) (avc1 / 0x31637661), yuv444p, 352x288 [SAR 128:117 DAR 1408:1053], 219 kb/s, 25 fps, 25 tbr, 12800 tbn, 50 tbc (default)\n",
      "    Metadata:\n",
      "      handler_name    : VideoHandler\n",
      "Stream mapping:\n",
      "  Stream #0:0 -> #0:0 (h264 (native) -> png (native))\n",
      "Press [q] to stop, [?] for help\n",
      "Output #0, image2, to '/tmp/original_reconstructed_%03d.png':\n",
      "  Metadata:\n",
      "    major_brand     : isom\n",
      "    minor_version   : 512\n",
      "    compatible_brands: isomiso2avc1mp41\n",
      "    encoder         : Lavf57.83.100\n",
      "    Stream #0:0(und): Video: png, rgb24, 352x288 [SAR 128:117 DAR 1408:1053], q=2-31, 200 kb/s, 25 fps, 25 tbn, 25 tbc (default)\n",
      "    Metadata:\n",
      "      handler_name    : VideoHandler\n",
      "      encoder         : Lavc57.107.100 png\n"
     ]
    },
    {
     "name": "stdout",
     "output_type": "stream",
     "text": [
      "frame=    5 fps=0.0 q=-0.0 Lsize=N/A time=00:00:00.20 bitrate=N/A speed=2.42x    \n",
      "video:545kB audio:0kB subtitle:0kB other streams:0kB global headers:0kB muxing overhead: unknown\n",
      "ffmpeg version 3.4.8-0ubuntu0.2 Copyright (c) 2000-2020 the FFmpeg developers\n",
      "  built with gcc 7 (Ubuntu 7.5.0-3ubuntu1~18.04)\n",
      "  configuration: --prefix=/usr --extra-version=0ubuntu0.2 --toolchain=hardened --libdir=/usr/lib/x86_64-linux-gnu --incdir=/usr/include/x86_64-linux-gnu --enable-gpl --disable-stripping --enable-avresample --enable-avisynth --enable-gnutls --enable-ladspa --enable-libass --enable-libbluray --enable-libbs2b --enable-libcaca --enable-libcdio --enable-libflite --enable-libfontconfig --enable-libfreetype --enable-libfribidi --enable-libgme --enable-libgsm --enable-libmp3lame --enable-libmysofa --enable-libopenjpeg --enable-libopenmpt --enable-libopus --enable-libpulse --enable-librubberband --enable-librsvg --enable-libshine --enable-libsnappy --enable-libsoxr --enable-libspeex --enable-libssh --enable-libtheora --enable-libtwolame --enable-libvorbis --enable-libvpx --enable-libwavpack --enable-libwebp --enable-libx265 --enable-libxml2 --enable-libxvid --enable-libzmq --enable-libzvbi --enable-omx --enable-openal --enable-opengl --enable-sdl2 --enable-libdc1394 --enable-libdrm --enable-libiec61883 --enable-chromaprint --enable-frei0r --enable-libopencv --enable-libx264 --enable-shared\n",
      "  libavutil      55. 78.100 / 55. 78.100\n",
      "  libavcodec     57.107.100 / 57.107.100\n",
      "  libavformat    57. 83.100 / 57. 83.100\n",
      "  libavdevice    57. 10.100 / 57. 10.100\n",
      "  libavfilter     6.107.100 /  6.107.100\n",
      "  libavresample   3.  7.  0 /  3.  7.  0\n",
      "  libswscale      4.  8.100 /  4.  8.100\n",
      "  libswresample   2.  9.100 /  2.  9.100\n",
      "  libpostproc    54.  7.100 / 54.  7.100\n",
      "Input #0, image2, from '/tmp/original_%03d.png':\n",
      "  Duration: 00:00:12.00, start: 0.000000, bitrate: N/A\n",
      "    Stream #0:0: Video: png, rgb24(pc), 352x288 [SAR 128:117 DAR 1408:1053], 25 fps, 25 tbr, 25 tbn, 25 tbc\n",
      "Stream mapping:\n",
      "  Stream #0:0 -> #0:0 (png (native) -> h264 (libx264))\n",
      "Press [q] to stop, [?] for help\n",
      "\u001b[1;36m[libx264 @ 0x55b332b1e8c0] \u001b[0musing SAR=128/117\n",
      "\u001b[1;36m[libx264 @ 0x55b332b1e8c0] \u001b[0musing cpu capabilities: MMX2 SSE2Fast SSSE3 SSE4.2\n",
      "\u001b[1;36m[libx264 @ 0x55b332b1e8c0] \u001b[0mprofile High 4:4:4 Predictive, level 1.3, 4:4:4 8-bit\n",
      "\u001b[1;36m[libx264 @ 0x55b332b1e8c0] \u001b[0m264 - core 152 r2854 e9a5903 - H.264/MPEG-4 AVC codec - Copyleft 2003-2017 - http://www.videolan.org/x264.html - options: cabac=1 ref=3 deblock=1:0:0 analyse=0x1:0x111 me=hex subme=7 psy=1 psy_rd=1.00:0.00 mixed_ref=1 me_range=16 chroma_me=1 trellis=1 8x8dct=0 cqm=0 deadzone=21,11 fast_pskip=1 chroma_qp_offset=4 threads=1 lookahead_threads=1 sliced_threads=0 nr=0 decimate=1 interlaced=0 bluray_compat=0 constrained_intra=0 bframes=0 weightp=2 keyint=5 keyint_min=1 scenecut=40 intra_refresh=0 rc_lookahead=5 rc=crf mbtree=1 crf=30.0 qcomp=0.60 qpmin=0 qpmax=69 qpstep=4 ip_ratio=1.40 aq=1:1.00\n",
      "Output #0, mp4, to '/tmp/output.mp4':\n",
      "  Metadata:\n",
      "    encoder         : Lavf57.83.100\n",
      "    Stream #0:0: Video: h264 (libx264) (avc1 / 0x31637661), yuv444p, 352x288 [SAR 128:117 DAR 1408:1053], q=-1--1, 25 fps, 12800 tbn, 25 tbc\n",
      "    Metadata:\n",
      "      encoder         : Lavc57.107.100 libx264\n",
      "    Side data:\n",
      "      cpb: bitrate max/min/avg: 0/0/0 buffer size: 0 vbv_delay: -1\n",
      "frame=    5 fps=0.0 q=35.0 Lsize=       5kB time=00:00:00.16 bitrate= 259.4kbits/s speed=3.45x    \n",
      "video:4kB audio:0kB subtitle:0kB other streams:0kB global headers:0kB muxing overhead: 19.833757%\n",
      "\u001b[1;36m[libx264 @ 0x55b332b1e8c0] \u001b[0mframe I:1     Avg QP:31.37  size:  3540\n",
      "\u001b[1;36m[libx264 @ 0x55b332b1e8c0] \u001b[0mframe P:4     Avg QP:33.79  size:    42\n",
      "\u001b[1;36m[libx264 @ 0x55b332b1e8c0] \u001b[0mmb I  I16..4: 47.2%  0.0% 52.8%\n",
      "\u001b[1;36m[libx264 @ 0x55b332b1e8c0] \u001b[0mmb P  I16..4:  0.0%  0.0%  0.0%  P16..4:  2.1%  0.8%  0.1%  0.0%  0.0%    skip:97.1%\n",
      "\u001b[1;36m[libx264 @ 0x55b332b1e8c0] \u001b[0mcoded y,u,v intra: 37.1% 13.3% 10.3% inter: 0.1% 0.0% 0.0%\n",
      "\u001b[1;36m[libx264 @ 0x55b332b1e8c0] \u001b[0mi16 v,h,dc,p: 37% 35% 13% 14%\n",
      "\u001b[1;36m[libx264 @ 0x55b332b1e8c0] \u001b[0mi4 v,h,dc,ddl,ddr,vr,hd,vl,hu: 34% 16% 24%  4%  3%  6%  3%  6%  3%\n",
      "\u001b[1;36m[libx264 @ 0x55b332b1e8c0] \u001b[0mWeighted P-Frames: Y:0.0% UV:0.0%\n",
      "\u001b[1;36m[libx264 @ 0x55b332b1e8c0] \u001b[0mref P L0: 96.7%  0.5%  2.7%\n",
      "\u001b[1;36m[libx264 @ 0x55b332b1e8c0] \u001b[0mkb/s:148.32\n",
      "ffmpeg version 3.4.8-0ubuntu0.2 Copyright (c) 2000-2020 the FFmpeg developers\n",
      "  built with gcc 7 (Ubuntu 7.5.0-3ubuntu1~18.04)\n",
      "  configuration: --prefix=/usr --extra-version=0ubuntu0.2 --toolchain=hardened --libdir=/usr/lib/x86_64-linux-gnu --incdir=/usr/include/x86_64-linux-gnu --enable-gpl --disable-stripping --enable-avresample --enable-avisynth --enable-gnutls --enable-ladspa --enable-libass --enable-libbluray --enable-libbs2b --enable-libcaca --enable-libcdio --enable-libflite --enable-libfontconfig --enable-libfreetype --enable-libfribidi --enable-libgme --enable-libgsm --enable-libmp3lame --enable-libmysofa --enable-libopenjpeg --enable-libopenmpt --enable-libopus --enable-libpulse --enable-librubberband --enable-librsvg --enable-libshine --enable-libsnappy --enable-libsoxr --enable-libspeex --enable-libssh --enable-libtheora --enable-libtwolame --enable-libvorbis --enable-libvpx --enable-libwavpack --enable-libwebp --enable-libx265 --enable-libxml2 --enable-libxvid --enable-libzmq --enable-libzvbi --enable-omx --enable-openal --enable-opengl --enable-sdl2 --enable-libdc1394 --enable-libdrm --enable-libiec61883 --enable-chromaprint --enable-frei0r --enable-libopencv --enable-libx264 --enable-shared\n",
      "  libavutil      55. 78.100 / 55. 78.100\n",
      "  libavcodec     57.107.100 / 57.107.100\n",
      "  libavformat    57. 83.100 / 57. 83.100\n",
      "  libavdevice    57. 10.100 / 57. 10.100\n",
      "  libavfilter     6.107.100 /  6.107.100\n",
      "  libavresample   3.  7.  0 /  3.  7.  0\n",
      "  libswscale      4.  8.100 /  4.  8.100\n",
      "  libswresample   2.  9.100 /  2.  9.100\n",
      "  libpostproc    54.  7.100 / 54.  7.100\n",
      "Input #0, mov,mp4,m4a,3gp,3g2,mj2, from '/tmp/output.mp4':\n",
      "  Metadata:\n",
      "    major_brand     : isom\n",
      "    minor_version   : 512\n",
      "    compatible_brands: isomiso2avc1mp41\n",
      "    encoder         : Lavf57.83.100\n",
      "  Duration: 00:00:00.20, start: 0.000000, bitrate: 207 kb/s\n",
      "    Stream #0:0(und): Video: h264 (High 4:4:4 Predictive) (avc1 / 0x31637661), yuv444p, 352x288 [SAR 128:117 DAR 1408:1053], 173 kb/s, 25 fps, 25 tbr, 12800 tbn, 50 tbc (default)\n",
      "    Metadata:\n",
      "      handler_name    : VideoHandler\n",
      "Stream mapping:\n",
      "  Stream #0:0 -> #0:0 (h264 (native) -> png (native))\n",
      "Press [q] to stop, [?] for help\n",
      "Output #0, image2, to '/tmp/original_reconstructed_%03d.png':\n",
      "  Metadata:\n",
      "    major_brand     : isom\n",
      "    minor_version   : 512\n",
      "    compatible_brands: isomiso2avc1mp41\n",
      "    encoder         : Lavf57.83.100\n",
      "    Stream #0:0(und): Video: png, rgb24, 352x288 [SAR 128:117 DAR 1408:1053], q=2-31, 200 kb/s, 25 fps, 25 tbn, 25 tbc (default)\n",
      "    Metadata:\n",
      "      handler_name    : VideoHandler\n",
      "      encoder         : Lavc57.107.100 png\n",
      "frame=    5 fps=0.0 q=-0.0 Lsize=N/A time=00:00:00.20 bitrate=N/A speed=2.56x    \n",
      "video:528kB audio:0kB subtitle:0kB other streams:0kB global headers:0kB muxing overhead: unknown\n",
      "ffmpeg version 3.4.8-0ubuntu0.2 Copyright (c) 2000-2020 the FFmpeg developers\n",
      "  built with gcc 7 (Ubuntu 7.5.0-3ubuntu1~18.04)\n",
      "  configuration: --prefix=/usr --extra-version=0ubuntu0.2 --toolchain=hardened --libdir=/usr/lib/x86_64-linux-gnu --incdir=/usr/include/x86_64-linux-gnu --enable-gpl --disable-stripping --enable-avresample --enable-avisynth --enable-gnutls --enable-ladspa --enable-libass --enable-libbluray --enable-libbs2b --enable-libcaca --enable-libcdio --enable-libflite --enable-libfontconfig --enable-libfreetype --enable-libfribidi --enable-libgme --enable-libgsm --enable-libmp3lame --enable-libmysofa --enable-libopenjpeg --enable-libopenmpt --enable-libopus --enable-libpulse --enable-librubberband --enable-librsvg --enable-libshine --enable-libsnappy --enable-libsoxr --enable-libspeex --enable-libssh --enable-libtheora --enable-libtwolame --enable-libvorbis --enable-libvpx --enable-libwavpack --enable-libwebp --enable-libx265 --enable-libxml2 --enable-libxvid --enable-libzmq --enable-libzvbi --enable-omx --enable-openal --enable-opengl --enable-sdl2 --enable-libdc1394 --enable-libdrm --enable-libiec61883 --enable-chromaprint --enable-frei0r --enable-libopencv --enable-libx264 --enable-shared\n",
      "  libavutil      55. 78.100 / 55. 78.100\n",
      "  libavcodec     57.107.100 / 57.107.100\n",
      "  libavformat    57. 83.100 / 57. 83.100\n",
      "  libavdevice    57. 10.100 / 57. 10.100\n",
      "  libavfilter     6.107.100 /  6.107.100\n",
      "  libavresample   3.  7.  0 /  3.  7.  0\n",
      "  libswscale      4.  8.100 /  4.  8.100\n",
      "  libswresample   2.  9.100 /  2.  9.100\n",
      "  libpostproc    54.  7.100 / 54.  7.100\n",
      "Input #0, image2, from '/tmp/original_%03d.png':\n",
      "  Duration: 00:00:12.00, start: 0.000000, bitrate: N/A\n",
      "    Stream #0:0: Video: png, rgb24(pc), 352x288 [SAR 128:117 DAR 1408:1053], 25 fps, 25 tbr, 25 tbn, 25 tbc\n",
      "Stream mapping:\n",
      "  Stream #0:0 -> #0:0 (png (native) -> h264 (libx264))\n",
      "Press [q] to stop, [?] for help\n",
      "\u001b[1;36m[libx264 @ 0x56221852f8c0] \u001b[0musing SAR=128/117\n"
     ]
    },
    {
     "name": "stdout",
     "output_type": "stream",
     "text": [
      "\u001b[1;36m[libx264 @ 0x56221852f8c0] \u001b[0musing cpu capabilities: MMX2 SSE2Fast SSSE3 SSE4.2\n",
      "\u001b[1;36m[libx264 @ 0x56221852f8c0] \u001b[0mprofile High 4:4:4 Predictive, level 1.3, 4:4:4 8-bit\n",
      "\u001b[1;36m[libx264 @ 0x56221852f8c0] \u001b[0m264 - core 152 r2854 e9a5903 - H.264/MPEG-4 AVC codec - Copyleft 2003-2017 - http://www.videolan.org/x264.html - options: cabac=1 ref=3 deblock=1:0:0 analyse=0x1:0x111 me=hex subme=7 psy=1 psy_rd=1.00:0.00 mixed_ref=1 me_range=16 chroma_me=1 trellis=1 8x8dct=0 cqm=0 deadzone=21,11 fast_pskip=1 chroma_qp_offset=4 threads=1 lookahead_threads=1 sliced_threads=0 nr=0 decimate=1 interlaced=0 bluray_compat=0 constrained_intra=0 bframes=0 weightp=2 keyint=5 keyint_min=1 scenecut=40 intra_refresh=0 rc_lookahead=5 rc=crf mbtree=1 crf=33.0 qcomp=0.60 qpmin=0 qpmax=69 qpstep=4 ip_ratio=1.40 aq=1:1.00\n",
      "Output #0, mp4, to '/tmp/output.mp4':\n",
      "  Metadata:\n",
      "    encoder         : Lavf57.83.100\n",
      "    Stream #0:0: Video: h264 (libx264) (avc1 / 0x31637661), yuv444p, 352x288 [SAR 128:117 DAR 1408:1053], q=-1--1, 25 fps, 12800 tbn, 25 tbc\n",
      "    Metadata:\n",
      "      encoder         : Lavc57.107.100 libx264\n",
      "    Side data:\n",
      "      cpb: bitrate max/min/avg: 0/0/0 buffer size: 0 vbv_delay: -1\n",
      "frame=    5 fps=0.0 q=38.0 Lsize=       4kB time=00:00:00.16 bitrate= 221.2kbits/s speed=3.59x    \n",
      "video:3kB audio:0kB subtitle:0kB other streams:0kB global headers:0kB muxing overhead: 24.075111%\n",
      "\u001b[1;36m[libx264 @ 0x56221852f8c0] \u001b[0mframe I:1     Avg QP:34.33  size:  2826\n",
      "\u001b[1;36m[libx264 @ 0x56221852f8c0] \u001b[0mframe P:4     Avg QP:35.75  size:    30\n",
      "\u001b[1;36m[libx264 @ 0x56221852f8c0] \u001b[0mmb I  I16..4: 56.6%  0.0% 43.4%\n",
      "\u001b[1;36m[libx264 @ 0x56221852f8c0] \u001b[0mmb P  I16..4:  0.0%  0.0%  0.0%  P16..4:  1.5%  0.3%  0.0%  0.0%  0.0%    skip:98.2%\n",
      "\u001b[1;36m[libx264 @ 0x56221852f8c0] \u001b[0mcoded y,u,v intra: 30.2% 11.0% 6.8% inter: 0.0% 0.0% 0.0%\n",
      "\u001b[1;36m[libx264 @ 0x56221852f8c0] \u001b[0mi16 v,h,dc,p: 41% 36% 14%  9%\n",
      "\u001b[1;36m[libx264 @ 0x56221852f8c0] \u001b[0mi4 v,h,dc,ddl,ddr,vr,hd,vl,hu: 35% 13% 26%  4%  4%  5%  3%  7%  3%\n",
      "\u001b[1;36m[libx264 @ 0x56221852f8c0] \u001b[0mWeighted P-Frames: Y:0.0% UV:0.0%\n",
      "\u001b[1;36m[libx264 @ 0x56221852f8c0] \u001b[0mref P L0: 96.4%  3.6%\n",
      "\u001b[1;36m[libx264 @ 0x56221852f8c0] \u001b[0mkb/s:117.80\n",
      "ffmpeg version 3.4.8-0ubuntu0.2 Copyright (c) 2000-2020 the FFmpeg developers\n",
      "  built with gcc 7 (Ubuntu 7.5.0-3ubuntu1~18.04)\n",
      "  configuration: --prefix=/usr --extra-version=0ubuntu0.2 --toolchain=hardened --libdir=/usr/lib/x86_64-linux-gnu --incdir=/usr/include/x86_64-linux-gnu --enable-gpl --disable-stripping --enable-avresample --enable-avisynth --enable-gnutls --enable-ladspa --enable-libass --enable-libbluray --enable-libbs2b --enable-libcaca --enable-libcdio --enable-libflite --enable-libfontconfig --enable-libfreetype --enable-libfribidi --enable-libgme --enable-libgsm --enable-libmp3lame --enable-libmysofa --enable-libopenjpeg --enable-libopenmpt --enable-libopus --enable-libpulse --enable-librubberband --enable-librsvg --enable-libshine --enable-libsnappy --enable-libsoxr --enable-libspeex --enable-libssh --enable-libtheora --enable-libtwolame --enable-libvorbis --enable-libvpx --enable-libwavpack --enable-libwebp --enable-libx265 --enable-libxml2 --enable-libxvid --enable-libzmq --enable-libzvbi --enable-omx --enable-openal --enable-opengl --enable-sdl2 --enable-libdc1394 --enable-libdrm --enable-libiec61883 --enable-chromaprint --enable-frei0r --enable-libopencv --enable-libx264 --enable-shared\n",
      "  libavutil      55. 78.100 / 55. 78.100\n",
      "  libavcodec     57.107.100 / 57.107.100\n",
      "  libavformat    57. 83.100 / 57. 83.100\n",
      "  libavdevice    57. 10.100 / 57. 10.100\n",
      "  libavfilter     6.107.100 /  6.107.100\n",
      "  libavresample   3.  7.  0 /  3.  7.  0\n",
      "  libswscale      4.  8.100 /  4.  8.100\n",
      "  libswresample   2.  9.100 /  2.  9.100\n",
      "  libpostproc    54.  7.100 / 54.  7.100\n",
      "Input #0, mov,mp4,m4a,3gp,3g2,mj2, from '/tmp/output.mp4':\n",
      "  Metadata:\n",
      "    major_brand     : isom\n",
      "    minor_version   : 512\n",
      "    compatible_brands: isomiso2avc1mp41\n",
      "    encoder         : Lavf57.83.100\n",
      "  Duration: 00:00:00.20, start: 0.000000, bitrate: 177 kb/s\n",
      "    Stream #0:0(und): Video: h264 (High 4:4:4 Predictive) (avc1 / 0x31637661), yuv444p, 352x288 [SAR 128:117 DAR 1408:1053], 142 kb/s, 25 fps, 25 tbr, 12800 tbn, 50 tbc (default)\n",
      "    Metadata:\n",
      "      handler_name    : VideoHandler\n",
      "Stream mapping:\n",
      "  Stream #0:0 -> #0:0 (h264 (native) -> png (native))\n",
      "Press [q] to stop, [?] for help\n",
      "Output #0, image2, to '/tmp/original_reconstructed_%03d.png':\n",
      "  Metadata:\n",
      "    major_brand     : isom\n",
      "    minor_version   : 512\n",
      "    compatible_brands: isomiso2avc1mp41\n",
      "    encoder         : Lavf57.83.100\n",
      "    Stream #0:0(und): Video: png, rgb24, 352x288 [SAR 128:117 DAR 1408:1053], q=2-31, 200 kb/s, 25 fps, 25 tbn, 25 tbc (default)\n",
      "    Metadata:\n",
      "      handler_name    : VideoHandler\n",
      "      encoder         : Lavc57.107.100 png\n",
      "frame=    5 fps=0.0 q=-0.0 Lsize=N/A time=00:00:00.20 bitrate=N/A speed=3.12x    \n",
      "video:518kB audio:0kB subtitle:0kB other streams:0kB global headers:0kB muxing overhead: unknown\n",
      "ffmpeg version 3.4.8-0ubuntu0.2 Copyright (c) 2000-2020 the FFmpeg developers\n",
      "  built with gcc 7 (Ubuntu 7.5.0-3ubuntu1~18.04)\n",
      "  configuration: --prefix=/usr --extra-version=0ubuntu0.2 --toolchain=hardened --libdir=/usr/lib/x86_64-linux-gnu --incdir=/usr/include/x86_64-linux-gnu --enable-gpl --disable-stripping --enable-avresample --enable-avisynth --enable-gnutls --enable-ladspa --enable-libass --enable-libbluray --enable-libbs2b --enable-libcaca --enable-libcdio --enable-libflite --enable-libfontconfig --enable-libfreetype --enable-libfribidi --enable-libgme --enable-libgsm --enable-libmp3lame --enable-libmysofa --enable-libopenjpeg --enable-libopenmpt --enable-libopus --enable-libpulse --enable-librubberband --enable-librsvg --enable-libshine --enable-libsnappy --enable-libsoxr --enable-libspeex --enable-libssh --enable-libtheora --enable-libtwolame --enable-libvorbis --enable-libvpx --enable-libwavpack --enable-libwebp --enable-libx265 --enable-libxml2 --enable-libxvid --enable-libzmq --enable-libzvbi --enable-omx --enable-openal --enable-opengl --enable-sdl2 --enable-libdc1394 --enable-libdrm --enable-libiec61883 --enable-chromaprint --enable-frei0r --enable-libopencv --enable-libx264 --enable-shared\n",
      "  libavutil      55. 78.100 / 55. 78.100\n",
      "  libavcodec     57.107.100 / 57.107.100\n",
      "  libavformat    57. 83.100 / 57. 83.100\n",
      "  libavdevice    57. 10.100 / 57. 10.100\n",
      "  libavfilter     6.107.100 /  6.107.100\n",
      "  libavresample   3.  7.  0 /  3.  7.  0\n",
      "  libswscale      4.  8.100 /  4.  8.100\n",
      "  libswresample   2.  9.100 /  2.  9.100\n",
      "  libpostproc    54.  7.100 / 54.  7.100\n",
      "Input #0, image2, from '/tmp/original_%03d.png':\n",
      "  Duration: 00:00:12.00, start: 0.000000, bitrate: N/A\n",
      "    Stream #0:0: Video: png, rgb24(pc), 352x288 [SAR 128:117 DAR 1408:1053], 25 fps, 25 tbr, 25 tbn, 25 tbc\n",
      "Stream mapping:\n",
      "  Stream #0:0 -> #0:0 (png (native) -> h264 (libx264))\n",
      "Press [q] to stop, [?] for help\n",
      "\u001b[1;36m[libx264 @ 0x5653b94098c0] \u001b[0musing SAR=128/117\n",
      "\u001b[1;36m[libx264 @ 0x5653b94098c0] \u001b[0musing cpu capabilities: MMX2 SSE2Fast SSSE3 SSE4.2\n",
      "\u001b[1;36m[libx264 @ 0x5653b94098c0] \u001b[0mprofile High 4:4:4 Predictive, level 1.3, 4:4:4 8-bit\n",
      "\u001b[1;36m[libx264 @ 0x5653b94098c0] \u001b[0m264 - core 152 r2854 e9a5903 - H.264/MPEG-4 AVC codec - Copyleft 2003-2017 - http://www.videolan.org/x264.html - options: cabac=1 ref=3 deblock=1:0:0 analyse=0x1:0x111 me=hex subme=7 psy=1 psy_rd=1.00:0.00 mixed_ref=1 me_range=16 chroma_me=1 trellis=1 8x8dct=0 cqm=0 deadzone=21,11 fast_pskip=1 chroma_qp_offset=4 threads=1 lookahead_threads=1 sliced_threads=0 nr=0 decimate=1 interlaced=0 bluray_compat=0 constrained_intra=0 bframes=0 weightp=2 keyint=5 keyint_min=1 scenecut=40 intra_refresh=0 rc_lookahead=5 rc=crf mbtree=1 crf=36.0 qcomp=0.60 qpmin=0 qpmax=69 qpstep=4 ip_ratio=1.40 aq=1:1.00\n",
      "Output #0, mp4, to '/tmp/output.mp4':\n",
      "  Metadata:\n",
      "    encoder         : Lavf57.83.100\n",
      "    Stream #0:0: Video: h264 (libx264) (avc1 / 0x31637661), yuv444p, 352x288 [SAR 128:117 DAR 1408:1053], q=-1--1, 25 fps, 12800 tbn, 25 tbc\n",
      "    Metadata:\n",
      "      encoder         : Lavc57.107.100 libx264\n",
      "    Side data:\n",
      "      cpb: bitrate max/min/avg: 0/0/0 buffer size: 0 vbv_delay: -1\n",
      "frame=    5 fps=0.0 q=41.0 Lsize=       4kB time=00:00:00.16 bitrate= 190.8kbits/s speed=3.73x    \n",
      "video:3kB audio:0kB subtitle:0kB other streams:0kB global headers:0kB muxing overhead: 29.073698%\n",
      "\u001b[1;36m[libx264 @ 0x5653b94098c0] \u001b[0mframe I:1     Avg QP:37.32  size:  2166\n",
      "\u001b[1;36m[libx264 @ 0x5653b94098c0] \u001b[0mframe P:4     Avg QP:39.30  size:    42\n",
      "\u001b[1;36m[libx264 @ 0x5653b94098c0] \u001b[0mmb I  I16..4: 68.2%  0.0% 31.8%\n",
      "\u001b[1;36m[libx264 @ 0x5653b94098c0] \u001b[0mmb P  I16..4:  0.1%  0.0%  0.0%  P16..4:  3.3%  1.1%  0.1%  0.0%  0.0%    skip:95.4%\n",
      "\u001b[1;36m[libx264 @ 0x5653b94098c0] \u001b[0mcoded y,u,v intra: 20.8% 8.1% 4.8% inter: 0.0% 0.0% 0.0%\n",
      "\u001b[1;36m[libx264 @ 0x5653b94098c0] \u001b[0mi16 v,h,dc,p: 46% 31% 15%  8%\n",
      "\u001b[1;36m[libx264 @ 0x5653b94098c0] \u001b[0mi4 v,h,dc,ddl,ddr,vr,hd,vl,hu: 34% 14% 26%  5%  3%  6%  3%  7%  2%\n",
      "\u001b[1;36m[libx264 @ 0x5653b94098c0] \u001b[0mWeighted P-Frames: Y:0.0% UV:0.0%\n",
      "\u001b[1;36m[libx264 @ 0x5653b94098c0] \u001b[0mref P L0: 91.7%  4.2%  2.8%  1.4%\n",
      "\u001b[1;36m[libx264 @ 0x5653b94098c0] \u001b[0mkb/s:93.40\n"
     ]
    },
    {
     "name": "stdout",
     "output_type": "stream",
     "text": [
      "ffmpeg version 3.4.8-0ubuntu0.2 Copyright (c) 2000-2020 the FFmpeg developers\n",
      "  built with gcc 7 (Ubuntu 7.5.0-3ubuntu1~18.04)\n",
      "  configuration: --prefix=/usr --extra-version=0ubuntu0.2 --toolchain=hardened --libdir=/usr/lib/x86_64-linux-gnu --incdir=/usr/include/x86_64-linux-gnu --enable-gpl --disable-stripping --enable-avresample --enable-avisynth --enable-gnutls --enable-ladspa --enable-libass --enable-libbluray --enable-libbs2b --enable-libcaca --enable-libcdio --enable-libflite --enable-libfontconfig --enable-libfreetype --enable-libfribidi --enable-libgme --enable-libgsm --enable-libmp3lame --enable-libmysofa --enable-libopenjpeg --enable-libopenmpt --enable-libopus --enable-libpulse --enable-librubberband --enable-librsvg --enable-libshine --enable-libsnappy --enable-libsoxr --enable-libspeex --enable-libssh --enable-libtheora --enable-libtwolame --enable-libvorbis --enable-libvpx --enable-libwavpack --enable-libwebp --enable-libx265 --enable-libxml2 --enable-libxvid --enable-libzmq --enable-libzvbi --enable-omx --enable-openal --enable-opengl --enable-sdl2 --enable-libdc1394 --enable-libdrm --enable-libiec61883 --enable-chromaprint --enable-frei0r --enable-libopencv --enable-libx264 --enable-shared\n",
      "  libavutil      55. 78.100 / 55. 78.100\n",
      "  libavcodec     57.107.100 / 57.107.100\n",
      "  libavformat    57. 83.100 / 57. 83.100\n",
      "  libavdevice    57. 10.100 / 57. 10.100\n",
      "  libavfilter     6.107.100 /  6.107.100\n",
      "  libavresample   3.  7.  0 /  3.  7.  0\n",
      "  libswscale      4.  8.100 /  4.  8.100\n",
      "  libswresample   2.  9.100 /  2.  9.100\n",
      "  libpostproc    54.  7.100 / 54.  7.100\n",
      "Input #0, mov,mp4,m4a,3gp,3g2,mj2, from '/tmp/output.mp4':\n",
      "  Metadata:\n",
      "    major_brand     : isom\n",
      "    minor_version   : 512\n",
      "    compatible_brands: isomiso2avc1mp41\n",
      "    encoder         : Lavf57.83.100\n",
      "  Duration: 00:00:00.20, start: 0.000000, bitrate: 152 kb/s\n",
      "    Stream #0:0(und): Video: h264 (High 4:4:4 Predictive) (avc1 / 0x31637661), yuv444p, 352x288 [SAR 128:117 DAR 1408:1053], 118 kb/s, 25 fps, 25 tbr, 12800 tbn, 50 tbc (default)\n",
      "    Metadata:\n",
      "      handler_name    : VideoHandler\n",
      "Stream mapping:\n",
      "  Stream #0:0 -> #0:0 (h264 (native) -> png (native))\n",
      "Press [q] to stop, [?] for help\n",
      "Output #0, image2, to '/tmp/original_reconstructed_%03d.png':\n",
      "  Metadata:\n",
      "    major_brand     : isom\n",
      "    minor_version   : 512\n",
      "    compatible_brands: isomiso2avc1mp41\n",
      "    encoder         : Lavf57.83.100\n",
      "    Stream #0:0(und): Video: png, rgb24, 352x288 [SAR 128:117 DAR 1408:1053], q=2-31, 200 kb/s, 25 fps, 25 tbn, 25 tbc (default)\n",
      "    Metadata:\n",
      "      handler_name    : VideoHandler\n",
      "      encoder         : Lavc57.107.100 png\n",
      "frame=    5 fps=0.0 q=-0.0 Lsize=N/A time=00:00:00.20 bitrate=N/A speed=3.67x    \n",
      "video:478kB audio:0kB subtitle:0kB other streams:0kB global headers:0kB muxing overhead: unknown\n",
      "ffmpeg version 3.4.8-0ubuntu0.2 Copyright (c) 2000-2020 the FFmpeg developers\n",
      "  built with gcc 7 (Ubuntu 7.5.0-3ubuntu1~18.04)\n",
      "  configuration: --prefix=/usr --extra-version=0ubuntu0.2 --toolchain=hardened --libdir=/usr/lib/x86_64-linux-gnu --incdir=/usr/include/x86_64-linux-gnu --enable-gpl --disable-stripping --enable-avresample --enable-avisynth --enable-gnutls --enable-ladspa --enable-libass --enable-libbluray --enable-libbs2b --enable-libcaca --enable-libcdio --enable-libflite --enable-libfontconfig --enable-libfreetype --enable-libfribidi --enable-libgme --enable-libgsm --enable-libmp3lame --enable-libmysofa --enable-libopenjpeg --enable-libopenmpt --enable-libopus --enable-libpulse --enable-librubberband --enable-librsvg --enable-libshine --enable-libsnappy --enable-libsoxr --enable-libspeex --enable-libssh --enable-libtheora --enable-libtwolame --enable-libvorbis --enable-libvpx --enable-libwavpack --enable-libwebp --enable-libx265 --enable-libxml2 --enable-libxvid --enable-libzmq --enable-libzvbi --enable-omx --enable-openal --enable-opengl --enable-sdl2 --enable-libdc1394 --enable-libdrm --enable-libiec61883 --enable-chromaprint --enable-frei0r --enable-libopencv --enable-libx264 --enable-shared\n",
      "  libavutil      55. 78.100 / 55. 78.100\n",
      "  libavcodec     57.107.100 / 57.107.100\n",
      "  libavformat    57. 83.100 / 57. 83.100\n",
      "  libavdevice    57. 10.100 / 57. 10.100\n",
      "  libavfilter     6.107.100 /  6.107.100\n",
      "  libavresample   3.  7.  0 /  3.  7.  0\n",
      "  libswscale      4.  8.100 /  4.  8.100\n",
      "  libswresample   2.  9.100 /  2.  9.100\n",
      "  libpostproc    54.  7.100 / 54.  7.100\n",
      "Input #0, image2, from '/tmp/original_%03d.png':\n",
      "  Duration: 00:00:12.00, start: 0.000000, bitrate: N/A\n",
      "    Stream #0:0: Video: png, rgb24(pc), 352x288 [SAR 128:117 DAR 1408:1053], 25 fps, 25 tbr, 25 tbn, 25 tbc\n",
      "Stream mapping:\n",
      "  Stream #0:0 -> #0:0 (png (native) -> h264 (libx264))\n",
      "Press [q] to stop, [?] for help\n",
      "\u001b[1;36m[libx264 @ 0x55b3a89558c0] \u001b[0musing SAR=128/117\n",
      "\u001b[1;36m[libx264 @ 0x55b3a89558c0] \u001b[0musing cpu capabilities: MMX2 SSE2Fast SSSE3 SSE4.2\n",
      "\u001b[1;36m[libx264 @ 0x55b3a89558c0] \u001b[0mprofile High 4:4:4 Predictive, level 1.3, 4:4:4 8-bit\n",
      "\u001b[1;36m[libx264 @ 0x55b3a89558c0] \u001b[0m264 - core 152 r2854 e9a5903 - H.264/MPEG-4 AVC codec - Copyleft 2003-2017 - http://www.videolan.org/x264.html - options: cabac=1 ref=3 deblock=1:0:0 analyse=0x1:0x111 me=hex subme=7 psy=1 psy_rd=1.00:0.00 mixed_ref=1 me_range=16 chroma_me=1 trellis=1 8x8dct=0 cqm=0 deadzone=21,11 fast_pskip=1 chroma_qp_offset=4 threads=1 lookahead_threads=1 sliced_threads=0 nr=0 decimate=1 interlaced=0 bluray_compat=0 constrained_intra=0 bframes=0 weightp=2 keyint=5 keyint_min=1 scenecut=40 intra_refresh=0 rc_lookahead=5 rc=crf mbtree=1 crf=39.0 qcomp=0.60 qpmin=0 qpmax=69 qpstep=4 ip_ratio=1.40 aq=1:1.00\n",
      "Output #0, mp4, to '/tmp/output.mp4':\n",
      "  Metadata:\n",
      "    encoder         : Lavf57.83.100\n",
      "    Stream #0:0: Video: h264 (libx264) (avc1 / 0x31637661), yuv444p, 352x288 [SAR 128:117 DAR 1408:1053], q=-1--1, 25 fps, 12800 tbn, 25 tbc\n",
      "    Metadata:\n",
      "      encoder         : Lavc57.107.100 libx264\n",
      "    Side data:\n",
      "      cpb: bitrate max/min/avg: 0/0/0 buffer size: 0 vbv_delay: -1\n",
      "frame=    5 fps=0.0 q=44.0 Lsize=       3kB time=00:00:00.16 bitrate= 164.3kbits/s speed= 4.5x    \n",
      "video:2kB audio:0kB subtitle:0kB other streams:0kB global headers:0kB muxing overhead: 35.420097%\n",
      "\u001b[1;36m[libx264 @ 0x55b3a89558c0] \u001b[0mframe I:1     Avg QP:40.17  size:  1651\n",
      "\u001b[1;36m[libx264 @ 0x55b3a89558c0] \u001b[0mframe P:4     Avg QP:42.52  size:    38\n",
      "\u001b[1;36m[libx264 @ 0x55b3a89558c0] \u001b[0mmb I  I16..4: 77.3%  0.0% 22.7%\n",
      "\u001b[1;36m[libx264 @ 0x55b3a89558c0] \u001b[0mmb P  I16..4:  0.1%  0.0%  0.0%  P16..4:  2.8%  0.6%  0.1%  0.0%  0.0%    skip:96.4%\n",
      "\u001b[1;36m[libx264 @ 0x55b3a89558c0] \u001b[0mcoded y,u,v intra: 13.8% 6.7% 3.5% inter: 0.0% 0.0% 0.0%\n",
      "\u001b[1;36m[libx264 @ 0x55b3a89558c0] \u001b[0mi16 v,h,dc,p: 42% 31% 17% 10%\n",
      "\u001b[1;36m[libx264 @ 0x55b3a89558c0] \u001b[0mi4 v,h,dc,ddl,ddr,vr,hd,vl,hu: 34% 11% 31%  6%  2%  4%  3%  6%  2%\n",
      "\u001b[1;36m[libx264 @ 0x55b3a89558c0] \u001b[0mWeighted P-Frames: Y:0.0% UV:0.0%\n",
      "\u001b[1;36m[libx264 @ 0x55b3a89558c0] \u001b[0mref P L0: 92.7%  3.6%  3.6%\n",
      "\u001b[1;36m[libx264 @ 0x55b3a89558c0] \u001b[0mkb/s:72.20\n",
      "ffmpeg version 3.4.8-0ubuntu0.2 Copyright (c) 2000-2020 the FFmpeg developers\n",
      "  built with gcc 7 (Ubuntu 7.5.0-3ubuntu1~18.04)\n",
      "  configuration: --prefix=/usr --extra-version=0ubuntu0.2 --toolchain=hardened --libdir=/usr/lib/x86_64-linux-gnu --incdir=/usr/include/x86_64-linux-gnu --enable-gpl --disable-stripping --enable-avresample --enable-avisynth --enable-gnutls --enable-ladspa --enable-libass --enable-libbluray --enable-libbs2b --enable-libcaca --enable-libcdio --enable-libflite --enable-libfontconfig --enable-libfreetype --enable-libfribidi --enable-libgme --enable-libgsm --enable-libmp3lame --enable-libmysofa --enable-libopenjpeg --enable-libopenmpt --enable-libopus --enable-libpulse --enable-librubberband --enable-librsvg --enable-libshine --enable-libsnappy --enable-libsoxr --enable-libspeex --enable-libssh --enable-libtheora --enable-libtwolame --enable-libvorbis --enable-libvpx --enable-libwavpack --enable-libwebp --enable-libx265 --enable-libxml2 --enable-libxvid --enable-libzmq --enable-libzvbi --enable-omx --enable-openal --enable-opengl --enable-sdl2 --enable-libdc1394 --enable-libdrm --enable-libiec61883 --enable-chromaprint --enable-frei0r --enable-libopencv --enable-libx264 --enable-shared\n",
      "  libavutil      55. 78.100 / 55. 78.100\n",
      "  libavcodec     57.107.100 / 57.107.100\n",
      "  libavformat    57. 83.100 / 57. 83.100\n",
      "  libavdevice    57. 10.100 / 57. 10.100\n",
      "  libavfilter     6.107.100 /  6.107.100\n",
      "  libavresample   3.  7.  0 /  3.  7.  0\n",
      "  libswscale      4.  8.100 /  4.  8.100\n",
      "  libswresample   2.  9.100 /  2.  9.100\n",
      "  libpostproc    54.  7.100 / 54.  7.100\n",
      "Input #0, mov,mp4,m4a,3gp,3g2,mj2, from '/tmp/output.mp4':\n",
      "  Metadata:\n",
      "    major_brand     : isom\n",
      "    minor_version   : 512\n",
      "    compatible_brands: isomiso2avc1mp41\n",
      "    encoder         : Lavf57.83.100\n",
      "  Duration: 00:00:00.20, start: 0.000000, bitrate: 131 kb/s\n",
      "    Stream #0:0(und): Video: h264 (High 4:4:4 Predictive) (avc1 / 0x31637661), yuv444p, 352x288 [SAR 128:117 DAR 1408:1053], 97 kb/s, 25 fps, 25 tbr, 12800 tbn, 50 tbc (default)\n",
      "    Metadata:\n",
      "      handler_name    : VideoHandler\n",
      "Stream mapping:\n",
      "  Stream #0:0 -> #0:0 (h264 (native) -> png (native))\n",
      "Press [q] to stop, [?] for help\n",
      "Output #0, image2, to '/tmp/original_reconstructed_%03d.png':\n",
      "  Metadata:\n",
      "    major_brand     : isom\n",
      "    minor_version   : 512\n",
      "    compatible_brands: isomiso2avc1mp41\n",
      "    encoder         : Lavf57.83.100\n",
      "    Stream #0:0(und): Video: png, rgb24, 352x288 [SAR 128:117 DAR 1408:1053], q=2-31, 200 kb/s, 25 fps, 25 tbn, 25 tbc (default)\n",
      "    Metadata:\n",
      "      handler_name    : VideoHandler\n",
      "      encoder         : Lavc57.107.100 png\n"
     ]
    },
    {
     "name": "stdout",
     "output_type": "stream",
     "text": [
      "frame=    5 fps=0.0 q=-0.0 Lsize=N/A time=00:00:00.20 bitrate=N/A speed= 3.4x    \n",
      "video:450kB audio:0kB subtitle:0kB other streams:0kB global headers:0kB muxing overhead: unknown\n",
      "     1\tQ_step: 21 BPP: 0.0537773569023569 KBPS: 490.656 Average AMSE: 10.598400673400674\n",
      "     2\tQ_step: 24 BPP: 0.04113531144781145 KBPS: 375.312 Average AMSE: 15.11699350273569\n",
      "     3\tQ_step: 27 BPP: 0.03344381313131313 KBPS: 305.136 Average AMSE: 21.333053188131316\n",
      "     4\tQ_step: 30 BPP: 0.027304292929292928 KBPS: 249.12 Average AMSE: 30.202552872474747\n",
      "     5\tQ_step: 33 BPP: 0.023290193602693604 KBPS: 212.496 Average AMSE: 43.22038023463804\n",
      "     6\tQ_step: 36 BPP: 0.02008627946127946 KBPS: 183.264 Average AMSE: 61.83464001999158\n",
      "     7\tQ_step: 39 BPP: 0.0172979797979798 KBPS: 157.824 Average AMSE: 86.94903001367845\n"
     ]
    }
   ],
   "source": [
    "!python RD_curve.py --N_frames=$N_frames 1> >(tee /tmp/output_MP4 >&1) | grep BPP | grep Average | cat -n"
   ]
  },
  {
   "cell_type": "code",
   "execution_count": 57,
   "metadata": {},
   "outputs": [],
   "source": [
    "!grep BPP /tmp/output_MP4 | grep Average | cut -d ' ' -f 4,9 | tr ' ' '\\t'  > /tmp/MP4.txt"
   ]
  },
  {
   "cell_type": "code",
   "execution_count": 58,
   "metadata": {},
   "outputs": [
    {
     "name": "stdout",
     "output_type": "stream",
     "text": [
      "0.0537773569023569\t10.598400673400674\r\n",
      "0.04113531144781145\t15.11699350273569\r\n",
      "0.03344381313131313\t21.333053188131316\r\n",
      "0.027304292929292928\t30.202552872474747\r\n",
      "0.023290193602693604\t43.22038023463804\r\n",
      "0.02008627946127946\t61.83464001999158\r\n",
      "0.0172979797979798\t86.94903001367845\r\n"
     ]
    }
   ],
   "source": [
    "!cat /tmp/MP4.txt"
   ]
  },
  {
   "cell_type": "code",
   "execution_count": 59,
   "metadata": {},
   "outputs": [],
   "source": [
    "RD_MP4 = []\n",
    "with open(\"/tmp/MP4.txt\", 'r') as f:\n",
    "    for line in f:\n",
    "        rate, _distortion = line.split('\\t')\n",
    "        RD_MP4.append((float(rate), float(_distortion)))"
   ]
  },
  {
   "cell_type": "code",
   "execution_count": 60,
   "metadata": {},
   "outputs": [
    {
     "data": {
      "image/png": "[encoded data removed]",
      "text/plain": [
       "<Figure size 900x600 with 1 Axes>"
      ]
     },
     "metadata": {
      "needs_background": "light"
     },
     "output_type": "display_data"
    }
   ],
   "source": [
    "%matplotlib inline\n",
    "\n",
    "import matplotlib\n",
    "import matplotlib.pyplot as plt\n",
    "import matplotlib.axes as ax\n",
    "import pylab\n",
    "\n",
    "pylab.figure(dpi=150)\n",
    "pylab.plot(*zip(*RD_image_IPP), label=\"image_IPP\")\n",
    "pylab.plot(*zip(*RD_image_IPP_adaptive), label=\"image_IPP_adaptive\")\n",
    "#pylab.plot(*zip(*RD_image_IPP_QR), label=\"image_IPP_quantized_residue\")\n",
    "pylab.plot(*zip(*RD_MP4), label=\"MP4\")\n",
    "pylab.title(f\"{sequence}\")\n",
    "pylab.xlabel(\"Bits/Pixel\")\n",
    "pylab.ylabel(\"AMSE\")\n",
    "plt.legend(loc='upper right')\n",
    "pylab.show()"
   ]
  },
  {
   "cell_type": "markdown",
   "metadata": {},
   "source": [
    "## Ignore the rest"
   ]
  },
  {
   "cell_type": "markdown",
   "metadata": {},
   "source": [
    "## Testing `image_IPP_quantized_residue`"
   ]
  },
  {
   "cell_type": "markdown",
   "metadata": {},
   "source": [
    "### Select `image_IPP_quantized_residue` in `RD_curve.py`"
   ]
  },
  {
   "cell_type": "code",
   "execution_count": 38,
   "metadata": {},
   "outputs": [],
   "source": [
    "!sed -z -i 's/\\nimport image_IPP as codec\\n/\\n#import image_IPP as codec\\n/g' RD_curve.py\n",
    "!sed -z -i 's/\\nimport image_IPP_adaptive as codec\\n/\\n#import image_IPP_adaptive as codec\\n/g' RD_curve.py\n",
    "!sed -z -i 's/\\nimport MP4 as codec\\n/\\n#import MP4 as codec\\n/g' RD_curve.py\n",
    "!sed -z -i 's/\\nimport IPP_compressor as codec\\n/\\n#import IPP_compressor as codec\\n/g' RD_curve.py\n",
    "!sed -z -i 's/\\nimage_IPP_quantized_prediction as codec\\n/\\n#import image_IPP_quantized_prediction as codec\\n/g' RD_curve.py\n",
    "!sed -z -i 's/\\n#import image_IPP_quantized_residue as codec\\n/\\nimport image_IPP_quantized_residue as codec\\n/g' RD_curve.py"
   ]
  },
  {
   "cell_type": "code",
   "execution_count": 39,
   "metadata": {},
   "outputs": [
    {
     "name": "stdout",
     "output_type": "stream",
     "text": [
      "     5\t#import debug\r\n",
      "     6\timport config\r\n",
      "     7\timport distortion\r\n",
      "     8\timport image_3 as frame\r\n",
      "    11\t#import image_interpolated_IPP as codec\r\n",
      "    12\t#import image_IPP as codec\r\n",
      "    13\t#import image_IPP_adaptive as codec\r\n",
      "    14\t#import image_IPP_quantized_prediction as codec\r\n",
      "    15\timport image_IPP_quantized_residue as codec\r\n",
      "    16\t#import MP4 as codec\r\n",
      "    17\t#import IPP_compressor as codec\r\n",
      "    19\timport logging\r\n",
      "    28\timport argparse\r\n"
     ]
    }
   ],
   "source": [
    "!cat -n RD_curve.py | grep \"import\" "
   ]
  },
  {
   "cell_type": "code",
   "execution_count": 40,
   "metadata": {},
   "outputs": [],
   "source": [
    "!sed -z -i 's/\\ntransform = \"DWT\"\\n/\\n#transform = \"DWT\"\\n/g' config.py\n",
    "!sed -z -i 's/\\ntransform = \"LP\"\\n/\\n#transform = \"LP\"\\n/g' config.py\n",
    "!sed -z -i 's/\\n#transform = None\\n/\\ntransform = None\\n/g' config.py"
   ]
  },
  {
   "cell_type": "code",
   "execution_count": 41,
   "metadata": {},
   "outputs": [
    {
     "name": "stdout",
     "output_type": "stream",
     "text": [
      "     3\t#multiresolution_transform = \"DWT\"\r\n",
      "     4\t#multiresolution_transform = \"LP\"\r\n",
      "     5\tmultiresolution_transform = None\r\n"
     ]
    }
   ],
   "source": [
    "!cat -n config.py | grep \"transform\" "
   ]
  },
  {
   "cell_type": "code",
   "execution_count": 42,
   "metadata": {},
   "outputs": [],
   "source": [
    "!sed -z -i 's/\\ncolor = \"YCoCg\\n/\\n#color = \"YCoCg\\n/g' config.py\n",
    "!sed -z -i 's/\\ncolor = \"YCoCg\\n/\\n#color = \"YCoCg\\n/g' config.py\n",
    "!sed -z -i 's/\\n#color = \"YCoCg\\n/\\ncolor = \"YCoCg\\n/g' config.py"
   ]
  },
  {
   "cell_type": "code",
   "execution_count": 43,
   "metadata": {},
   "outputs": [
    {
     "name": "stdout",
     "output_type": "stream",
     "text": [
      "    10\tcolor = \"YCoCg\"\r\n",
      "    11\t#color = \"YCrCb\"\r\n",
      "    12\t#color = \"RGB\"\r\n"
     ]
    }
   ],
   "source": [
    "!cat -n config.py | grep \"color\" "
   ]
  },
  {
   "cell_type": "code",
   "execution_count": null,
   "metadata": {
    "scrolled": true
   },
   "outputs": [
    {
     "name": "stdout",
     "output_type": "stream",
     "text": [
      "akiyo_cif.y4m exists.\n",
      "ffmpeg version 4.4-6ubuntu5 Copyright (c) 2000-2021 the FFmpeg developers\n",
      "  built with gcc 11 (Ubuntu 11.2.0-7ubuntu1)\n",
      "  configuration: --prefix=/usr --extra-version=6ubuntu5 --toolchain=hardened --libdir=/usr/lib/x86_64-linux-gnu --incdir=/usr/include/x86_64-linux-gnu --arch=amd64 --enable-gpl --disable-stripping --enable-gnutls --enable-ladspa --enable-libaom --enable-libass --enable-libbluray --enable-libbs2b --enable-libcaca --enable-libcdio --enable-libcodec2 --enable-libdav1d --enable-libflite --enable-libfontconfig --enable-libfreetype --enable-libfribidi --enable-libgme --enable-libgsm --enable-libjack --enable-libmp3lame --enable-libmysofa --enable-libopenjpeg --enable-libopenmpt --enable-libopus --enable-libpulse --enable-librabbitmq --enable-librubberband --enable-libshine --enable-libsnappy --enable-libsoxr --enable-libspeex --enable-libsrt --enable-libssh --enable-libtheora --enable-libtwolame --enable-libvidstab --enable-libvorbis --enable-libvpx --enable-libwebp --enable-libx265 --enable-libxml2 --enable-libxvid --enable-libzimg --enable-libzmq --enable-libzvbi --enable-lv2 --enable-omx --enable-openal --enable-opencl --enable-opengl --enable-sdl2 --enable-pocketsphinx --enable-librsvg --enable-libmfx --enable-libdc1394 --enable-libdrm --enable-libiec61883 --enable-nvenc --enable-chromaprint --enable-frei0r --enable-libx264 --enable-shared\n",
      "  libavutil      56. 70.100 / 56. 70.100\n",
      "  libavcodec     58.134.100 / 58.134.100\n",
      "  libavformat    58. 76.100 / 58. 76.100\n",
      "  libavdevice    58. 13.100 / 58. 13.100\n",
      "  libavfilter     7.110.100 /  7.110.100\n",
      "  libswscale      5.  9.100 /  5.  9.100\n",
      "  libswresample   3.  9.100 /  3.  9.100\n",
      "  libpostproc    55.  9.100 / 55.  9.100\n",
      "Input #0, yuv4mpegpipe, from 'akiyo_cif.y4m':\n",
      "  Duration: 00:00:10.01, start: 0.000000, bitrate: 36460 kb/s\n",
      "  Stream #0:0: Video: rawvideo (I420 / 0x30323449), yuv420p(progressive), 352x288, SAR 128:117 DAR 1408:1053, 29.97 fps, 29.97 tbr, 29.97 tbn, 29.97 tbc\n",
      "Stream mapping:\n",
      "  Stream #0:0 -> #0:0 (rawvideo (native) -> png (native))\n",
      "Press [q] to stop, [?] for help\n",
      "Output #0, image2, to '/tmp/original_%03d.png':\n",
      "  Metadata:\n",
      "    encoder         : Lavf58.76.100\n",
      "  Stream #0:0: Video: png, rgb24(pc, progressive), 352x288 [SAR 128:117 DAR 1408:1053], q=2-31, 200 kb/s, 29.97 fps, 29.97 tbn\n",
      "    Metadata:\n",
      "      encoder         : Lavc58.134.100 png\n",
      "frame=  300 fps=0.0 q=-0.0 Lsize=N/A time=00:00:10.01 bitrate=N/A speed=13.7x    \n",
      "video:52297kB audio:0kB subtitle:0kB other streams:0kB global headers:0kB muxing overhead: unknown\n",
      "[image_IPP.py:215 I_codec()] image_IPP.I_codec: max=255 min=0 type=uint8\n",
      "[image_IPP.py:238 E_codec_4_YCoCg()] image_IPP.E_codec: q_step 21\n",
      "[image_IPP.py:239 E_codec_4_YCoCg()] image_IPP.E_codec: error 129 -120 int16\n",
      "[image_IPP.py:241 E_codec_4_YCoCg()] image_IPP.E_codec: max=192 min=0 type=uint8\n",
      "[image_IPP.py:253 E_codec_4_YCoCg()] image_IPP.E_codec: deQ error YUV 63 -49 int16\n",
      "[image_IPP.py:238 E_codec_4_YCoCg()] image_IPP.E_codec: q_step 21\n",
      "[image_IPP.py:239 E_codec_4_YCoCg()] image_IPP.E_codec: error 113 -70 int16\n",
      "[image_IPP.py:241 E_codec_4_YCoCg()] image_IPP.E_codec: max=217 min=0 type=uint8\n",
      "[image_IPP.py:253 E_codec_4_YCoCg()] image_IPP.E_codec: deQ error YUV 64 -43 int16\n",
      "[image_IPP.py:238 E_codec_4_YCoCg()] image_IPP.E_codec: q_step 21\n",
      "[image_IPP.py:239 E_codec_4_YCoCg()] image_IPP.E_codec: error 105 -68 int16\n",
      "[image_IPP.py:241 E_codec_4_YCoCg()] image_IPP.E_codec: max=255 min=0 type=uint8\n",
      "[image_IPP.py:253 E_codec_4_YCoCg()] image_IPP.E_codec: deQ error YUV 32 -30 int16\n",
      "[image_IPP.py:238 E_codec_4_YCoCg()] image_IPP.E_codec: q_step 21\n",
      "[image_IPP.py:239 E_codec_4_YCoCg()] image_IPP.E_codec: error 110 -116 int16\n",
      "[image_IPP.py:241 E_codec_4_YCoCg()] image_IPP.E_codec: max=255 min=0 type=uint8\n",
      "[image_IPP.py:253 E_codec_4_YCoCg()] image_IPP.E_codec: deQ error YUV 109 -118 int16\n",
      "[image_IPP.py:158 compute_br()] cat /tmp/original_motion_y_diff_comp_???.png | gzip -9 > /tmp/image_IPP_motion_y.gz\n",
      "[image_IPP.py:197 compute_br()] cat /tmp/original_motion_x_diff_comp_???.png | gzip -9 > /tmp/image_IPP_motion_y.gz\n",
      "[image_IPP.py:215 I_codec()] image_IPP.I_codec: max=255 min=0 type=uint8\n",
      "[image_IPP.py:238 E_codec_4_YCoCg()] image_IPP.E_codec: q_step 24\n",
      "[image_IPP.py:239 E_codec_4_YCoCg()] image_IPP.E_codec: error 129 -120 int16\n",
      "[image_IPP.py:241 E_codec_4_YCoCg()] image_IPP.E_codec: max=192 min=0 type=uint8\n",
      "[image_IPP.py:253 E_codec_4_YCoCg()] image_IPP.E_codec: deQ error YUV 65 -53 int16\n",
      "[image_IPP.py:238 E_codec_4_YCoCg()] image_IPP.E_codec: q_step 24\n",
      "[image_IPP.py:239 E_codec_4_YCoCg()] image_IPP.E_codec: error 119 -87 int16\n",
      "[image_IPP.py:241 E_codec_4_YCoCg()] image_IPP.E_codec: max=226 min=0 type=uint8\n",
      "[image_IPP.py:253 E_codec_4_YCoCg()] image_IPP.E_codec: deQ error YUV 64 -48 int16\n",
      "[image_IPP.py:238 E_codec_4_YCoCg()] image_IPP.E_codec: q_step 24\n",
      "[image_IPP.py:239 E_codec_4_YCoCg()] image_IPP.E_codec: error 112 -76 int16\n",
      "[image_IPP.py:241 E_codec_4_YCoCg()] image_IPP.E_codec: max=255 min=0 type=uint8\n",
      "[image_IPP.py:253 E_codec_4_YCoCg()] image_IPP.E_codec: deQ error YUV 38 -32 int16\n",
      "[image_IPP.py:238 E_codec_4_YCoCg()] image_IPP.E_codec: q_step 24\n",
      "[image_IPP.py:239 E_codec_4_YCoCg()] image_IPP.E_codec: error 114 -123 int16\n",
      "[image_IPP.py:241 E_codec_4_YCoCg()] image_IPP.E_codec: max=255 min=0 type=uint8\n"
     ]
    }
   ],
   "source": [
    "# You can see in real-time the output by running \"tail -f /tmp/output\"\n",
    "!rm /tmp/*.png\n",
    "!../sequences/$sequence/runme.sh\n",
    "!python RD_curve.py --first_frame=0 --N_frames=$N_frames 1> >(tee /tmp/output_image_IPP_quantized_residue >&1) | grep BPP | grep Average | cat -n"
   ]
  },
  {
   "cell_type": "code",
   "execution_count": null,
   "metadata": {},
   "outputs": [],
   "source": [
    "!grep BPP /tmp/output_image_IPP_quantized_residue | grep Average | cut -d ' ' -f 4,9 | tr ' ' '\\t'  > /tmp/image_IPP_quantized_residue.txt"
   ]
  },
  {
   "cell_type": "code",
   "execution_count": null,
   "metadata": {},
   "outputs": [],
   "source": [
    "!cat /tmp/image_IPP_quantized_residue.txt"
   ]
  },
  {
   "cell_type": "code",
   "execution_count": null,
   "metadata": {},
   "outputs": [],
   "source": [
    "RD_image_IPP_QR = []\n",
    "with open(\"/tmp/image_IPP_quantized_residue.txt\", 'r') as f:\n",
    "    for line in f:\n",
    "        rate, _distortion = line.split('\\t')\n",
    "        RD_image_IPP_QR.append((float(rate), float(_distortion)))"
   ]
  },
  {
   "cell_type": "code",
   "execution_count": null,
   "metadata": {},
   "outputs": [],
   "source": [
    "%matplotlib inline\n",
    "\n",
    "import matplotlib\n",
    "import matplotlib.pyplot as plt\n",
    "import matplotlib.axes as ax\n",
    "import pylab\n",
    "\n",
    "pylab.figure(dpi=150)\n",
    "pylab.plot(*zip(*RD_image_IPP), label=\"image_IPP\")\n",
    "pylab.plot(*zip(*RD_image_IPP_adaptive), label=\"image_IPP_adaptive\")\n",
    "#pylab.plot(*zip(*RD_image_IPP_QR), label=\"image_IPP_quantized_residue\")\n",
    "pylab.plot(*zip(*RD_MP4), label=\"MP4\")\n",
    "pylab.title(f\"{sequence}\")\n",
    "pylab.xlabel(\"Bits/Pixel\")\n",
    "pylab.ylabel(\"AMSE\")\n",
    "plt.legend(loc='upper right')\n",
    "pylab.show()"
   ]
  },
  {
   "cell_type": "code",
   "execution_count": null,
   "metadata": {},
   "outputs": [],
   "source": [
    "%matplotlib inline\n",
    "\n",
    "import matplotlib\n",
    "import matplotlib.pyplot as plt\n",
    "import matplotlib.axes as ax\n",
    "import pylab\n",
    "\n",
    "pylab.figure(dpi=150)\n",
    "pylab.plot(*zip(*RD_points_no_intrablocks), label=\"No Intra-blocks\")\n",
    "pylab.plot(*zip(*RD_points_with_intrablocks), label=\"With Intra-blocks\")\n",
    "pylab.plot(*zip(*RD_points_MP4), label=\"MP4\")\n",
    "pylab.title(f\"{sequence}\")\n",
    "pylab.xlabel(\"Bits/Pixel\")\n",
    "pylab.ylabel(\"AMSE\")\n",
    "plt.legend(loc='upper right')\n",
    "pylab.show()"
   ]
  },
  {
   "cell_type": "code",
   "execution_count": null,
   "metadata": {},
   "outputs": [],
   "source": []
  }
 ],
 "metadata": {
  "kernelspec": {
   "display_name": "Python 3 (ipykernel)",
   "language": "python",
   "name": "python3"
  },
  "language_info": {
   "codemirror_mode": {
    "name": "ipython",
    "version": 3
   },
   "file_extension": ".py",
   "mimetype": "text/x-python",
   "name": "python",
   "nbconvert_exporter": "python",
   "pygments_lexer": "ipython3",
   "version": "3.9.7"
  }
 },
 "nbformat": 4,
 "nbformat_minor": 4
}
